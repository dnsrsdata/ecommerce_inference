{
 "cells": [
  {
   "cell_type": "code",
   "execution_count": 1,
   "metadata": {},
   "outputs": [],
   "source": [
    "from pyspark.sql import SparkSession"
   ]
  },
  {
   "cell_type": "code",
   "execution_count": 2,
   "metadata": {},
   "outputs": [
    {
     "name": "stderr",
     "output_type": "stream",
     "text": [
      "23/11/29 16:27:11 WARN Utils: Your hostname, daniel-VJFE43F11X-XXXXXX resolves to a loopback address: 127.0.1.1; using 192.168.0.157 instead (on interface wlo1)\n",
      "23/11/29 16:27:11 WARN Utils: Set SPARK_LOCAL_IP if you need to bind to another address\n",
      "Setting default log level to \"WARN\".\n",
      "To adjust logging level use sc.setLogLevel(newLevel). For SparkR, use setLogLevel(newLevel).\n",
      "23/11/29 16:27:12 WARN NativeCodeLoader: Unable to load native-hadoop library for your platform... using builtin-java classes where applicable\n"
     ]
    }
   ],
   "source": [
    "# Criando uma sessão spark\n",
    "spark = SparkSession.builder.appName(\"modelling\").getOrCreate()"
   ]
  },
  {
   "cell_type": "code",
   "execution_count": 3,
   "metadata": {},
   "outputs": [
    {
     "name": "stderr",
     "output_type": "stream",
     "text": [
      "                                                                                \r"
     ]
    }
   ],
   "source": [
    "# Lendo o arquivo csv\n",
    "dados = spark.read.csv(\"../data/raw/chamada_regular_sisu_2022_1.csv\", header=True, sep=\"|\", encoding=\"latin1\")"
   ]
  },
  {
   "cell_type": "code",
   "execution_count": 4,
   "metadata": {},
   "outputs": [
    {
     "name": "stderr",
     "output_type": "stream",
     "text": [
      "23/11/29 16:27:32 WARN SparkStringUtils: Truncated the string representation of a plan since it was too large. This behavior can be adjusted by setting 'spark.sql.debug.maxToStringFields'.\n",
      "                                                                                \r"
     ]
    },
    {
     "name": "stdout",
     "output_type": "stream",
     "text": [
      "+----+------+-----+---------------+----------+--------------------+---------+------+-------------+--------------------+---------+----------------+------------+--------------------+-----------+-------+----------------+-------+---------------------+------------------+---------------------+----------------+------+-------+-------+------+------+-------------+--------------+--------------+-------------+-------------+------------+-------------+--------------+--------------------+----+---------------+------------+-------------------+-----+------+-------+-------+------+------+---------------+----------------+----------------+---------------+---------------+--------------+----------+-------------+--------+--------------+\n",
      "| ANO|EDICAO|ETAPA|       DS_ETAPA|CODIGO_IES|            NOME_IES|SIGLA_IES|UF_IES|CODIGO_CAMPUS|         NOME_CAMPUS|UF_CAMPUS|MUNICIPIO_CAMPUS|CODIGO_CURSO|          NOME_CURSO|       GRAU|  TURNO|DS_PERIODICIDADE|TP_COTA|TIPO_MOD_CONCORRENCIA|  MOD_CONCORRENCIA|QT_VAGAS_CONCORRENCIA|PERCENTUAL_BONUS|PESO_L|PESO_CH|PESO_CN|PESO_M|PESO_R|NOTA_MINIMA_L|NOTA_MINIMA_CH|NOTA_MINIMA_CN|NOTA_MINIMA_M|NOTA_MINIMA_R|MEDIA_MINIMA|          CPF|INSCRICAO_ENEM|            INSCRITO|SEXO|DATA_NASCIMENTO|UF_CANDIDATO|MUNICIPIO_CANDIDATO|OPCAO|NOTA_L|NOTA_CH|NOTA_CN|NOTA_M|NOTA_R|NOTA_L_COM_PESO|NOTA_CH_COM_PESO|NOTA_CN_COM_PESO|NOTA_M_COM_PESO|NOTA_R_COM_PESO|NOTA_CANDIDATO|NOTA_CORTE|CLASSIFICACAO|APROVADO|     MATRICULA|\n",
      "+----+------+-----+---------------+----------+--------------------+---------+------+-------------+--------------------+---------+----------------+------------+--------------------+-----------+-------+----------------+-------+---------------------+------------------+---------------------+----------------+------+-------+-------+------+------+-------------+--------------+--------------+-------------+-------------+------------+-------------+--------------+--------------------+----+---------------+------------+-------------------+-----+------+-------+-------+------+------+---------------+----------------+----------------+---------------+---------------+--------------+----------+-------------+--------+--------------+\n",
      "|2022|     1|    4|CHAMADA REGULAR|       593|CENTRO FEDERAL DE...| CEFET/RJ|    RJ|         1663|CEFET-RJ - MARIA ...|       RJ|  Rio de Janeiro|     1441998|SISTEMAS DE INFOR...|Bacharelado|Noturno|       Semestral|   NULL|                    A|Ampla concorrência|                   15|            NULL|     1|      1|      2|     4|     3|        453,8|         444,7|         453,3|        438,4|          300|      418,04|XXX.015687-XX|  211XXXXXX424|ABRAAO CARDOSO DO...|   M|     20/08/1979|          RJ|       Belford Roxo|    2| 564,8|  600,5|  616,9| 711,1|   580|          564,8|           600,5|          1233,8|         2844,4|           1740|        634,86|    718,99|           61|       N|      PENDENTE|\n",
      "|2022|     1|    4|CHAMADA REGULAR|       593|CENTRO FEDERAL DE...| CEFET/RJ|    RJ|         1663|CEFET-RJ - MARIA ...|       RJ|  Rio de Janeiro|     1441998|SISTEMAS DE INFOR...|Bacharelado|Noturno|       Semestral|   NULL|                    A|Ampla concorrência|                   15|            NULL|     1|      1|      2|     4|     3|        453,8|         444,7|         453,3|        438,4|          300|      418,04|XXX.781997-XX|  211XXXXXX857|    ADHAM GREG DIEHL|   M|     01/04/1986|          RJ|     Rio de Janeiro|    1|   650|  669,9|  618,3| 698,7|   640|            650|           669,9|          1236,6|         2794,8|           1920|        661,03|    718,99|           45|       N|      PENDENTE|\n",
      "|2022|     1|    4|CHAMADA REGULAR|       593|CENTRO FEDERAL DE...| CEFET/RJ|    RJ|         1663|CEFET-RJ - MARIA ...|       RJ|  Rio de Janeiro|     1441998|SISTEMAS DE INFOR...|Bacharelado|Noturno|       Semestral|   NULL|                    A|Ampla concorrência|                   15|            NULL|     1|      1|      2|     4|     3|        453,8|         444,7|         453,3|        438,4|          300|      418,04|XXX.040767-XX|  211XXXXXX696|ALEX SANDRO DA CO...|   M|     31/01/2004|          RJ|    Duque de Caxias|    2| 618,7|  602,2|  666,3|   679|   880|          618,7|           602,2|          1332,6|           2716|           2640|        719,05|    718,99|           14|       S|NÃO COMPARECEU|\n",
      "|2022|     1|    4|CHAMADA REGULAR|       593|CENTRO FEDERAL DE...| CEFET/RJ|    RJ|         1663|CEFET-RJ - MARIA ...|       RJ|  Rio de Janeiro|     1441998|SISTEMAS DE INFOR...|Bacharelado|Noturno|       Semestral|   NULL|                    A|Ampla concorrência|                   15|            NULL|     1|      1|      2|     4|     3|        453,8|         444,7|         453,3|        438,4|          300|      418,04|XXX.630087-XX|  211XXXXXX981|  ANDRE LOPES BIONDE|   M|     06/05/2000|          RJ|     Rio de Janeiro|    2| 543,6|  514,6|  455,5| 662,9|   520|          543,6|           514,6|             911|         2651,6|           1560|        561,89|    718,99|           90|       N|      PENDENTE|\n",
      "|2022|     1|    4|CHAMADA REGULAR|       593|CENTRO FEDERAL DE...| CEFET/RJ|    RJ|         1663|CEFET-RJ - MARIA ...|       RJ|  Rio de Janeiro|     1441998|SISTEMAS DE INFOR...|Bacharelado|Noturno|       Semestral|   NULL|                    A|Ampla concorrência|                   15|            NULL|     1|      1|      2|     4|     3|        453,8|         444,7|         453,3|        438,4|          300|      418,04|XXX.802497-XX|  211XXXXXX762|ANDRE LUIZ DE SOU...|   M|     20/09/1997|          RJ|          Nilópolis|    2| 637,8|  741,4|  595,4| 671,7|   640|          637,8|           741,4|          1190,8|         2686,8|           1920|        652,44|    718,99|           51|       N|      PENDENTE|\n",
      "+----+------+-----+---------------+----------+--------------------+---------+------+-------------+--------------------+---------+----------------+------------+--------------------+-----------+-------+----------------+-------+---------------------+------------------+---------------------+----------------+------+-------+-------+------+------+-------------+--------------+--------------+-------------+-------------+------------+-------------+--------------+--------------------+----+---------------+------------+-------------------+-----+------+-------+-------+------+------+---------------+----------------+----------------+---------------+---------------+--------------+----------+-------------+--------+--------------+\n",
      "only showing top 5 rows\n",
      "\n"
     ]
    }
   ],
   "source": [
    "# Observando o estado inicial dos dados\n",
    "dados.show(5)"
   ]
  },
  {
   "cell_type": "code",
   "execution_count": 5,
   "metadata": {},
   "outputs": [
    {
     "name": "stdout",
     "output_type": "stream",
     "text": [
      "root\n",
      " |-- ANO: string (nullable = true)\n",
      " |-- EDICAO: string (nullable = true)\n",
      " |-- ETAPA: string (nullable = true)\n",
      " |-- DS_ETAPA: string (nullable = true)\n",
      " |-- CODIGO_IES: string (nullable = true)\n",
      " |-- NOME_IES: string (nullable = true)\n",
      " |-- SIGLA_IES: string (nullable = true)\n",
      " |-- UF_IES: string (nullable = true)\n",
      " |-- CODIGO_CAMPUS: string (nullable = true)\n",
      " |-- NOME_CAMPUS: string (nullable = true)\n",
      " |-- UF_CAMPUS: string (nullable = true)\n",
      " |-- MUNICIPIO_CAMPUS: string (nullable = true)\n",
      " |-- CODIGO_CURSO: string (nullable = true)\n",
      " |-- NOME_CURSO: string (nullable = true)\n",
      " |-- GRAU: string (nullable = true)\n",
      " |-- TURNO: string (nullable = true)\n",
      " |-- DS_PERIODICIDADE: string (nullable = true)\n",
      " |-- TP_COTA: string (nullable = true)\n",
      " |-- TIPO_MOD_CONCORRENCIA: string (nullable = true)\n",
      " |-- MOD_CONCORRENCIA: string (nullable = true)\n",
      " |-- QT_VAGAS_CONCORRENCIA: string (nullable = true)\n",
      " |-- PERCENTUAL_BONUS: string (nullable = true)\n",
      " |-- PESO_L: string (nullable = true)\n",
      " |-- PESO_CH: string (nullable = true)\n",
      " |-- PESO_CN: string (nullable = true)\n",
      " |-- PESO_M: string (nullable = true)\n",
      " |-- PESO_R: string (nullable = true)\n",
      " |-- NOTA_MINIMA_L: string (nullable = true)\n",
      " |-- NOTA_MINIMA_CH: string (nullable = true)\n",
      " |-- NOTA_MINIMA_CN: string (nullable = true)\n",
      " |-- NOTA_MINIMA_M: string (nullable = true)\n",
      " |-- NOTA_MINIMA_R: string (nullable = true)\n",
      " |-- MEDIA_MINIMA: string (nullable = true)\n",
      " |-- CPF: string (nullable = true)\n",
      " |-- INSCRICAO_ENEM: string (nullable = true)\n",
      " |-- INSCRITO: string (nullable = true)\n",
      " |-- SEXO: string (nullable = true)\n",
      " |-- DATA_NASCIMENTO: string (nullable = true)\n",
      " |-- UF_CANDIDATO: string (nullable = true)\n",
      " |-- MUNICIPIO_CANDIDATO: string (nullable = true)\n",
      " |-- OPCAO: string (nullable = true)\n",
      " |-- NOTA_L: string (nullable = true)\n",
      " |-- NOTA_CH: string (nullable = true)\n",
      " |-- NOTA_CN: string (nullable = true)\n",
      " |-- NOTA_M: string (nullable = true)\n",
      " |-- NOTA_R: string (nullable = true)\n",
      " |-- NOTA_L_COM_PESO: string (nullable = true)\n",
      " |-- NOTA_CH_COM_PESO: string (nullable = true)\n",
      " |-- NOTA_CN_COM_PESO: string (nullable = true)\n",
      " |-- NOTA_M_COM_PESO: string (nullable = true)\n",
      " |-- NOTA_R_COM_PESO: string (nullable = true)\n",
      " |-- NOTA_CANDIDATO: string (nullable = true)\n",
      " |-- NOTA_CORTE: string (nullable = true)\n",
      " |-- CLASSIFICACAO: string (nullable = true)\n",
      " |-- APROVADO: string (nullable = true)\n",
      " |-- MATRICULA: string (nullable = true)\n",
      "\n"
     ]
    }
   ],
   "source": [
    "# Checando o schema dos dados\n",
    "dados.printSchema()"
   ]
  },
  {
   "cell_type": "code",
   "execution_count": 6,
   "metadata": {},
   "outputs": [],
   "source": [
    "# Permitindo usar SQL nos dados\n",
    "dados.createOrReplaceTempView(\"dados\")"
   ]
  },
  {
   "cell_type": "markdown",
   "metadata": {},
   "source": [
    "Os dados aparentam estar em um bom estados, onde as únicas alterações exigidas \n",
    "são a mudança do tipo de dado de algumas colunas e a substituição do \".\" por \",\"\n",
    "em todos os valores de notas, além da mudança de tipo dos mesmos."
   ]
  },
  {
   "cell_type": "code",
   "execution_count": 7,
   "metadata": {},
   "outputs": [],
   "source": [
    "# Aplicando as correções\n",
    "dados_transformados = spark.sql(\"SELECT CAST(ANO AS INT) AS ANO, \\\n",
    "                                CAST(EDICAO AS INT) AS EDICAO, \\\n",
    "                                CAST(ETAPA AS INT) AS ETAPA, \\\n",
    "                                DS_ETAPA, \\\n",
    "                                CAST(CODIGO_IES AS INT) AS CODIGO_IES, \\\n",
    "                                SIGLA_IES || ' ' || '-' || ' ' ||NOME_IES AS IES, \\\n",
    "                                UF_IES, \\\n",
    "                                CAST(CODIGO_CAMPUS AS INT) AS CODIGO_CAMPUS, \\\n",
    "                                NOME_CAMPUS, \\\n",
    "                                UF_CAMPUS, \\\n",
    "                                MUNICIPIO_CAMPUS, \\\n",
    "                                CAST(CODIGO_CURSO AS INT) AS CODIGO_CURSO, \\\n",
    "                                NOME_CURSO, \\\n",
    "                                GRAU, \\\n",
    "                                TURNO, \\\n",
    "                                DS_PERIODICIDADE, \\\n",
    "                                CASE WHEN TP_COTA IS NULL THEN 'Não se aplica' ELSE TP_COTA END AS TP_COTA, \\\n",
    "                                TIPO_MOD_CONCORRENCIA, \\\n",
    "                                MOD_CONCORRENCIA, \\\n",
    "                                CAST(QT_VAGAS_CONCORRENCIA AS INT) AS QT_VAGAS_CONCORRENCIA, \\\n",
    "                                CAST(PERCENTUAL_BONUS AS INT) AS PERCENTUAL_BONUS, \\\n",
    "                                PESO_L, \\\n",
    "                                PESO_CH, \\\n",
    "                                PESO_CN, \\\n",
    "                                PESO_M, \\\n",
    "                                PESO_R, \\\n",
    "                                CAST(REPLACE(NOTA_MINIMA_L, ',', '.') AS FLOAT) AS NOTA_MINIMA_L, \\\n",
    "                                CAST(REPLACE(NOTA_MINIMA_CH, ',', '.') AS FLOAT) AS NOTA_MINIMA_CH, \\\n",
    "                                CAST(REPLACE(NOTA_MINIMA_CN, ',', '.') AS FLOAT) AS NOTA_MINIMA_CN, \\\n",
    "                                CAST(REPLACE(NOTA_MINIMA_M, ',', '.') AS FLOAT) AS NOTA_MINIMA_M, \\\n",
    "                                CAST(REPLACE(NOTA_MINIMA_R, ',', '.') AS FLOAT) AS NOTA_MINIMA_R, \\\n",
    "                                CAST(REPLACE(MEDIA_MINIMA, ',', '.') AS FLOAT) AS MEDIA_MINIMA, \\\n",
    "                                CPF, \\\n",
    "                                INSCRICAO_ENEM, \\\n",
    "                                INSCRITO, \\\n",
    "                                SEXO, \\\n",
    "                                CAST(TO_DATE(DATA_NASCIMENTO, 'dd/MM/yyyy') AS DATE) AS DATA_NASCIMENTO, \\\n",
    "                                UF_CANDIDATO, \\\n",
    "                                MUNICIPIO_CANDIDATO, \\\n",
    "                                OPCAO, \\\n",
    "                                CAST(REPLACE(NOTA_L, ',', '.') AS FLOAT) AS NOTA_L, \\\n",
    "                                CAST(REPLACE(NOTA_CH, ',', '.') AS FLOAT) AS NOTA_CH, \\\n",
    "                                CAST(REPLACE(NOTA_CN, ',', '.') AS FLOAT) AS NOTA_CN, \\\n",
    "                                CAST(REPLACE(NOTA_M, ',', '.') AS FLOAT) AS NOTA_M, \\\n",
    "                                CAST(REPLACE(NOTA_R, ',', '.') AS FLOAT) AS NOTA_R, \\\n",
    "                                CAST(REPLACE(NOTA_L_COM_PESO, ',', '.') AS FLOAT) AS NOTA_L_COM_PESO, \\\n",
    "                                CAST(REPLACE(NOTA_CH_COM_PESO, ',', '.') AS FLOAT) AS NOTA_CH_COM_PESO, \\\n",
    "                                CAST(REPLACE(NOTA_CN_COM_PESO, ',', '.') AS FLOAT) AS NOTA_CN_COM_PESO, \\\n",
    "                                CAST(REPLACE(NOTA_M_COM_PESO, ',', '.') AS FLOAT) AS NOTA_M_COM_PESO, \\\n",
    "                                CAST(REPLACE(NOTA_R_COM_PESO, ',', '.') AS FLOAT) AS NOTA_R_COM_PESO, \\\n",
    "                                CAST(REPLACE(NOTA_CANDIDATO, ',', '.') AS FLOAT) AS NOTA_CANDIDATO, \\\n",
    "                                CAST(REPLACE(NOTA_CORTE, ',', '.') AS FLOAT) AS NOTA_CORTE, \\\n",
    "                                CLASSIFICACAO, \\\n",
    "                                APROVADO, \\\n",
    "                                MATRICULA \\\n",
    "                                FROM dados\")"
   ]
  },
  {
   "cell_type": "code",
   "execution_count": 8,
   "metadata": {},
   "outputs": [
    {
     "name": "stdout",
     "output_type": "stream",
     "text": [
      "+----+------+-----+---------------+----------+--------------------+------+-------------+--------------------+---------+----------------+------------+--------------------+-----------+-------+----------------+-------------+---------------------+------------------+---------------------+----------------+------+-------+-------+------+------+-------------+--------------+--------------+-------------+-------------+------------+-------------+--------------+--------------------+----+---------------+------------+-------------------+-----+------+-------+-------+------+------+---------------+----------------+----------------+---------------+---------------+--------------+----------+-------------+--------+--------------+\n",
      "| ANO|EDICAO|ETAPA|       DS_ETAPA|CODIGO_IES|                 IES|UF_IES|CODIGO_CAMPUS|         NOME_CAMPUS|UF_CAMPUS|MUNICIPIO_CAMPUS|CODIGO_CURSO|          NOME_CURSO|       GRAU|  TURNO|DS_PERIODICIDADE|      TP_COTA|TIPO_MOD_CONCORRENCIA|  MOD_CONCORRENCIA|QT_VAGAS_CONCORRENCIA|PERCENTUAL_BONUS|PESO_L|PESO_CH|PESO_CN|PESO_M|PESO_R|NOTA_MINIMA_L|NOTA_MINIMA_CH|NOTA_MINIMA_CN|NOTA_MINIMA_M|NOTA_MINIMA_R|MEDIA_MINIMA|          CPF|INSCRICAO_ENEM|            INSCRITO|SEXO|DATA_NASCIMENTO|UF_CANDIDATO|MUNICIPIO_CANDIDATO|OPCAO|NOTA_L|NOTA_CH|NOTA_CN|NOTA_M|NOTA_R|NOTA_L_COM_PESO|NOTA_CH_COM_PESO|NOTA_CN_COM_PESO|NOTA_M_COM_PESO|NOTA_R_COM_PESO|NOTA_CANDIDATO|NOTA_CORTE|CLASSIFICACAO|APROVADO|     MATRICULA|\n",
      "+----+------+-----+---------------+----------+--------------------+------+-------------+--------------------+---------+----------------+------------+--------------------+-----------+-------+----------------+-------------+---------------------+------------------+---------------------+----------------+------+-------+-------+------+------+-------------+--------------+--------------+-------------+-------------+------------+-------------+--------------+--------------------+----+---------------+------------+-------------------+-----+------+-------+-------+------+------+---------------+----------------+----------------+---------------+---------------+--------------+----------+-------------+--------+--------------+\n",
      "|2022|     1|    4|CHAMADA REGULAR|       593|CEFET/RJ - CENTRO...|    RJ|         1663|CEFET-RJ - MARIA ...|       RJ|  Rio de Janeiro|     1441998|SISTEMAS DE INFOR...|Bacharelado|Noturno|       Semestral|Não se aplica|                    A|Ampla concorrência|                   15|            NULL|     1|      1|      2|     4|     3|        453.8|         444.7|         453.3|        438.4|        300.0|      418.04|XXX.015687-XX|  211XXXXXX424|ABRAAO CARDOSO DO...|   M|     1979-08-20|          RJ|       Belford Roxo|    2| 564.8|  600.5|  616.9| 711.1| 580.0|          564.8|           600.5|          1233.8|         2844.4|         1740.0|        634.86|    718.99|           61|       N|      PENDENTE|\n",
      "|2022|     1|    4|CHAMADA REGULAR|       593|CEFET/RJ - CENTRO...|    RJ|         1663|CEFET-RJ - MARIA ...|       RJ|  Rio de Janeiro|     1441998|SISTEMAS DE INFOR...|Bacharelado|Noturno|       Semestral|Não se aplica|                    A|Ampla concorrência|                   15|            NULL|     1|      1|      2|     4|     3|        453.8|         444.7|         453.3|        438.4|        300.0|      418.04|XXX.781997-XX|  211XXXXXX857|    ADHAM GREG DIEHL|   M|     1986-04-01|          RJ|     Rio de Janeiro|    1| 650.0|  669.9|  618.3| 698.7| 640.0|          650.0|           669.9|          1236.6|         2794.8|         1920.0|        661.03|    718.99|           45|       N|      PENDENTE|\n",
      "|2022|     1|    4|CHAMADA REGULAR|       593|CEFET/RJ - CENTRO...|    RJ|         1663|CEFET-RJ - MARIA ...|       RJ|  Rio de Janeiro|     1441998|SISTEMAS DE INFOR...|Bacharelado|Noturno|       Semestral|Não se aplica|                    A|Ampla concorrência|                   15|            NULL|     1|      1|      2|     4|     3|        453.8|         444.7|         453.3|        438.4|        300.0|      418.04|XXX.040767-XX|  211XXXXXX696|ALEX SANDRO DA CO...|   M|     2004-01-31|          RJ|    Duque de Caxias|    2| 618.7|  602.2|  666.3| 679.0| 880.0|          618.7|           602.2|          1332.6|         2716.0|         2640.0|        719.05|    718.99|           14|       S|NÃO COMPARECEU|\n",
      "|2022|     1|    4|CHAMADA REGULAR|       593|CEFET/RJ - CENTRO...|    RJ|         1663|CEFET-RJ - MARIA ...|       RJ|  Rio de Janeiro|     1441998|SISTEMAS DE INFOR...|Bacharelado|Noturno|       Semestral|Não se aplica|                    A|Ampla concorrência|                   15|            NULL|     1|      1|      2|     4|     3|        453.8|         444.7|         453.3|        438.4|        300.0|      418.04|XXX.630087-XX|  211XXXXXX981|  ANDRE LOPES BIONDE|   M|     2000-05-06|          RJ|     Rio de Janeiro|    2| 543.6|  514.6|  455.5| 662.9| 520.0|          543.6|           514.6|           911.0|         2651.6|         1560.0|        561.89|    718.99|           90|       N|      PENDENTE|\n",
      "|2022|     1|    4|CHAMADA REGULAR|       593|CEFET/RJ - CENTRO...|    RJ|         1663|CEFET-RJ - MARIA ...|       RJ|  Rio de Janeiro|     1441998|SISTEMAS DE INFOR...|Bacharelado|Noturno|       Semestral|Não se aplica|                    A|Ampla concorrência|                   15|            NULL|     1|      1|      2|     4|     3|        453.8|         444.7|         453.3|        438.4|        300.0|      418.04|XXX.802497-XX|  211XXXXXX762|ANDRE LUIZ DE SOU...|   M|     1997-09-20|          RJ|          Nilópolis|    2| 637.8|  741.4|  595.4| 671.7| 640.0|          637.8|           741.4|          1190.8|         2686.8|         1920.0|        652.44|    718.99|           51|       N|      PENDENTE|\n",
      "+----+------+-----+---------------+----------+--------------------+------+-------------+--------------------+---------+----------------+------------+--------------------+-----------+-------+----------------+-------------+---------------------+------------------+---------------------+----------------+------+-------+-------+------+------+-------------+--------------+--------------+-------------+-------------+------------+-------------+--------------+--------------------+----+---------------+------------+-------------------+-----+------+-------+-------+------+------+---------------+----------------+----------------+---------------+---------------+--------------+----------+-------------+--------+--------------+\n",
      "only showing top 5 rows\n",
      "\n"
     ]
    }
   ],
   "source": [
    "dados_transformados.show(5)"
   ]
  },
  {
   "cell_type": "code",
   "execution_count": 9,
   "metadata": {},
   "outputs": [
    {
     "name": "stderr",
     "output_type": "stream",
     "text": [
      "23/11/29 16:34:26 WARN MemoryManager: Total allocation exceeds 95,00% (1.020.054.720 bytes) of heap memory\n",
      "Scaling row group sizes to 95,00% for 8 writers\n",
      "                                                                                \r"
     ]
    }
   ],
   "source": [
    "# Salvando os dados transformados\n",
    "dados_transformados.write.mode(\"overwrite\").parquet(\"../data/processed/dados_transformados.parquet\")"
   ]
  }
 ],
 "metadata": {
  "kernelspec": {
   "display_name": "venv",
   "language": "python",
   "name": "python3"
  },
  "language_info": {
   "codemirror_mode": {
    "name": "ipython",
    "version": 3
   },
   "file_extension": ".py",
   "mimetype": "text/x-python",
   "name": "python",
   "nbconvert_exporter": "python",
   "pygments_lexer": "ipython3",
   "version": "3.10.12"
  }
 },
 "nbformat": 4,
 "nbformat_minor": 2
}
