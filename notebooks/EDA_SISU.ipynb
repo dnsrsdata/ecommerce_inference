{
 "cells": [
  {
   "cell_type": "code",
   "execution_count": 1,
   "metadata": {},
   "outputs": [],
   "source": [
    "import numpy as np\n",
    "import pandas as pd"
   ]
  },
  {
   "cell_type": "code",
   "execution_count": 2,
   "metadata": {},
   "outputs": [
    {
     "name": "stderr",
     "output_type": "stream",
     "text": [
      "/tmp/ipykernel_8878/2431920978.py:1: DtypeWarning: Columns (17,22,23,24,25,26,27,28,29,30,31,32) have mixed types. Specify dtype option on import or set low_memory=False.\n",
      "  dados = pd.read_csv(\"../data/chamada_regular_sisu_2022_1.csv\", sep = \"|\", encoding=\"latin1\")\n"
     ]
    }
   ],
   "source": [
    "dados = pd.read_csv(\"../data/chamada_regular_sisu_2022_1.csv\", sep = \"|\", encoding=\"latin1\")"
   ]
  },
  {
   "cell_type": "code",
   "execution_count": 3,
   "metadata": {},
   "outputs": [
    {
     "data": {
      "text/html": [
       "<div>\n",
       "<style scoped>\n",
       "    .dataframe tbody tr th:only-of-type {\n",
       "        vertical-align: middle;\n",
       "    }\n",
       "\n",
       "    .dataframe tbody tr th {\n",
       "        vertical-align: top;\n",
       "    }\n",
       "\n",
       "    .dataframe thead th {\n",
       "        text-align: right;\n",
       "    }\n",
       "</style>\n",
       "<table border=\"1\" class=\"dataframe\">\n",
       "  <thead>\n",
       "    <tr style=\"text-align: right;\">\n",
       "      <th></th>\n",
       "      <th>ANO</th>\n",
       "      <th>EDICAO</th>\n",
       "      <th>ETAPA</th>\n",
       "      <th>DS_ETAPA</th>\n",
       "      <th>CODIGO_IES</th>\n",
       "      <th>NOME_IES</th>\n",
       "      <th>SIGLA_IES</th>\n",
       "      <th>UF_IES</th>\n",
       "      <th>CODIGO_CAMPUS</th>\n",
       "      <th>NOME_CAMPUS</th>\n",
       "      <th>...</th>\n",
       "      <th>NOTA_L_COM_PESO</th>\n",
       "      <th>NOTA_CH_COM_PESO</th>\n",
       "      <th>NOTA_CN_COM_PESO</th>\n",
       "      <th>NOTA_M_COM_PESO</th>\n",
       "      <th>NOTA_R_COM_PESO</th>\n",
       "      <th>NOTA_CANDIDATO</th>\n",
       "      <th>NOTA_CORTE</th>\n",
       "      <th>CLASSIFICACAO</th>\n",
       "      <th>APROVADO</th>\n",
       "      <th>MATRICULA</th>\n",
       "    </tr>\n",
       "  </thead>\n",
       "  <tbody>\n",
       "    <tr>\n",
       "      <th>0</th>\n",
       "      <td>2022</td>\n",
       "      <td>1</td>\n",
       "      <td>4</td>\n",
       "      <td>CHAMADA REGULAR</td>\n",
       "      <td>593</td>\n",
       "      <td>CENTRO FEDERAL DE EDUCAÇÃO TECNOLÓGICA CELSO S...</td>\n",
       "      <td>CEFET/RJ</td>\n",
       "      <td>RJ</td>\n",
       "      <td>1663</td>\n",
       "      <td>CEFET-RJ - MARIA DA GRAÇA</td>\n",
       "      <td>...</td>\n",
       "      <td>564,8</td>\n",
       "      <td>600,5</td>\n",
       "      <td>1233,8</td>\n",
       "      <td>2844,4</td>\n",
       "      <td>1740</td>\n",
       "      <td>634,86</td>\n",
       "      <td>718,99</td>\n",
       "      <td>61.0</td>\n",
       "      <td>N</td>\n",
       "      <td>PENDENTE</td>\n",
       "    </tr>\n",
       "    <tr>\n",
       "      <th>1</th>\n",
       "      <td>2022</td>\n",
       "      <td>1</td>\n",
       "      <td>4</td>\n",
       "      <td>CHAMADA REGULAR</td>\n",
       "      <td>593</td>\n",
       "      <td>CENTRO FEDERAL DE EDUCAÇÃO TECNOLÓGICA CELSO S...</td>\n",
       "      <td>CEFET/RJ</td>\n",
       "      <td>RJ</td>\n",
       "      <td>1663</td>\n",
       "      <td>CEFET-RJ - MARIA DA GRAÇA</td>\n",
       "      <td>...</td>\n",
       "      <td>650</td>\n",
       "      <td>669,9</td>\n",
       "      <td>1236,6</td>\n",
       "      <td>2794,8</td>\n",
       "      <td>1920</td>\n",
       "      <td>661,03</td>\n",
       "      <td>718,99</td>\n",
       "      <td>45.0</td>\n",
       "      <td>N</td>\n",
       "      <td>PENDENTE</td>\n",
       "    </tr>\n",
       "    <tr>\n",
       "      <th>2</th>\n",
       "      <td>2022</td>\n",
       "      <td>1</td>\n",
       "      <td>4</td>\n",
       "      <td>CHAMADA REGULAR</td>\n",
       "      <td>593</td>\n",
       "      <td>CENTRO FEDERAL DE EDUCAÇÃO TECNOLÓGICA CELSO S...</td>\n",
       "      <td>CEFET/RJ</td>\n",
       "      <td>RJ</td>\n",
       "      <td>1663</td>\n",
       "      <td>CEFET-RJ - MARIA DA GRAÇA</td>\n",
       "      <td>...</td>\n",
       "      <td>618,7</td>\n",
       "      <td>602,2</td>\n",
       "      <td>1332,6</td>\n",
       "      <td>2716</td>\n",
       "      <td>2640</td>\n",
       "      <td>719,05</td>\n",
       "      <td>718,99</td>\n",
       "      <td>14.0</td>\n",
       "      <td>S</td>\n",
       "      <td>NÃO COMPARECEU</td>\n",
       "    </tr>\n",
       "    <tr>\n",
       "      <th>3</th>\n",
       "      <td>2022</td>\n",
       "      <td>1</td>\n",
       "      <td>4</td>\n",
       "      <td>CHAMADA REGULAR</td>\n",
       "      <td>593</td>\n",
       "      <td>CENTRO FEDERAL DE EDUCAÇÃO TECNOLÓGICA CELSO S...</td>\n",
       "      <td>CEFET/RJ</td>\n",
       "      <td>RJ</td>\n",
       "      <td>1663</td>\n",
       "      <td>CEFET-RJ - MARIA DA GRAÇA</td>\n",
       "      <td>...</td>\n",
       "      <td>543,6</td>\n",
       "      <td>514,6</td>\n",
       "      <td>911</td>\n",
       "      <td>2651,6</td>\n",
       "      <td>1560</td>\n",
       "      <td>561,89</td>\n",
       "      <td>718,99</td>\n",
       "      <td>90.0</td>\n",
       "      <td>N</td>\n",
       "      <td>PENDENTE</td>\n",
       "    </tr>\n",
       "    <tr>\n",
       "      <th>4</th>\n",
       "      <td>2022</td>\n",
       "      <td>1</td>\n",
       "      <td>4</td>\n",
       "      <td>CHAMADA REGULAR</td>\n",
       "      <td>593</td>\n",
       "      <td>CENTRO FEDERAL DE EDUCAÇÃO TECNOLÓGICA CELSO S...</td>\n",
       "      <td>CEFET/RJ</td>\n",
       "      <td>RJ</td>\n",
       "      <td>1663</td>\n",
       "      <td>CEFET-RJ - MARIA DA GRAÇA</td>\n",
       "      <td>...</td>\n",
       "      <td>637,8</td>\n",
       "      <td>741,4</td>\n",
       "      <td>1190,8</td>\n",
       "      <td>2686,8</td>\n",
       "      <td>1920</td>\n",
       "      <td>652,44</td>\n",
       "      <td>718,99</td>\n",
       "      <td>51.0</td>\n",
       "      <td>N</td>\n",
       "      <td>PENDENTE</td>\n",
       "    </tr>\n",
       "  </tbody>\n",
       "</table>\n",
       "<p>5 rows × 56 columns</p>\n",
       "</div>"
      ],
      "text/plain": [
       "    ANO  EDICAO  ETAPA         DS_ETAPA  CODIGO_IES  \\\n",
       "0  2022       1      4  CHAMADA REGULAR         593   \n",
       "1  2022       1      4  CHAMADA REGULAR         593   \n",
       "2  2022       1      4  CHAMADA REGULAR         593   \n",
       "3  2022       1      4  CHAMADA REGULAR         593   \n",
       "4  2022       1      4  CHAMADA REGULAR         593   \n",
       "\n",
       "                                            NOME_IES SIGLA_IES UF_IES  \\\n",
       "0  CENTRO FEDERAL DE EDUCAÇÃO TECNOLÓGICA CELSO S...  CEFET/RJ     RJ   \n",
       "1  CENTRO FEDERAL DE EDUCAÇÃO TECNOLÓGICA CELSO S...  CEFET/RJ     RJ   \n",
       "2  CENTRO FEDERAL DE EDUCAÇÃO TECNOLÓGICA CELSO S...  CEFET/RJ     RJ   \n",
       "3  CENTRO FEDERAL DE EDUCAÇÃO TECNOLÓGICA CELSO S...  CEFET/RJ     RJ   \n",
       "4  CENTRO FEDERAL DE EDUCAÇÃO TECNOLÓGICA CELSO S...  CEFET/RJ     RJ   \n",
       "\n",
       "   CODIGO_CAMPUS                NOME_CAMPUS  ... NOTA_L_COM_PESO  \\\n",
       "0           1663  CEFET-RJ - MARIA DA GRAÇA  ...           564,8   \n",
       "1           1663  CEFET-RJ - MARIA DA GRAÇA  ...             650   \n",
       "2           1663  CEFET-RJ - MARIA DA GRAÇA  ...           618,7   \n",
       "3           1663  CEFET-RJ - MARIA DA GRAÇA  ...           543,6   \n",
       "4           1663  CEFET-RJ - MARIA DA GRAÇA  ...           637,8   \n",
       "\n",
       "  NOTA_CH_COM_PESO  NOTA_CN_COM_PESO NOTA_M_COM_PESO NOTA_R_COM_PESO  \\\n",
       "0            600,5            1233,8          2844,4            1740   \n",
       "1            669,9            1236,6          2794,8            1920   \n",
       "2            602,2            1332,6            2716            2640   \n",
       "3            514,6               911          2651,6            1560   \n",
       "4            741,4            1190,8          2686,8            1920   \n",
       "\n",
       "  NOTA_CANDIDATO NOTA_CORTE CLASSIFICACAO APROVADO       MATRICULA  \n",
       "0         634,86     718,99          61.0        N        PENDENTE  \n",
       "1         661,03     718,99          45.0        N        PENDENTE  \n",
       "2         719,05     718,99          14.0        S  NÃO COMPARECEU  \n",
       "3         561,89     718,99          90.0        N        PENDENTE  \n",
       "4         652,44     718,99          51.0        N        PENDENTE  \n",
       "\n",
       "[5 rows x 56 columns]"
      ]
     },
     "execution_count": 3,
     "metadata": {},
     "output_type": "execute_result"
    }
   ],
   "source": [
    "# Observando o estado inicial dos dados\n",
    "dados.head()"
   ]
  },
  {
   "cell_type": "markdown",
   "metadata": {},
   "source": [
    "A partir dos dados iniciais do SISU, vamos fazer uma análise exploratória dos dados para responder as seguintes perguntas: \n",
    "- Qual a porcentagem de aprovados?\n",
    "- Qual a maior e menor nota de aprovação?\n",
    "- Dos aprovados, quantos porcento foram aceitos na primeira opção? E na segunda?\n",
    "- Qual a probabilidade de ser aprovado na segunda opção dado que foi reprovado na primeira?\n",
    "- Qual a porcentagem de cotistas aplicantes?\n",
    "- Destes, qual a porcentagem de aprovados?\n",
    "- Qual a porcentagem de cotistas aprovados na primeira opção? E na segunda?\n",
    "- Qual a probabilidade de ser aprovado na primeira opção sendo um cotista? E na segunda?\n",
    "- Há diferença na probabilidade de ser aprovado em um curso dado as modalidades de concorrência (cotas, ampla concorrência, etc)?\n",
    "- Há alguma diferença na probabilidade de ser aprovado em um curso dado o seu turno?\n",
    "- Há alguma diferença na probabilidade de ser aprovado em um curso dado o seu grau?\n",
    "- No geral, qual a probabilidade de ser aprovado dada diferentes notas de corte?\n",
    "\n",
    "**Brincar com as notas e os pesos para aprovação.**"
   ]
  },
  {
   "cell_type": "markdown",
   "metadata": {},
   "source": [
    "# Qual a taxa de aprovação do ENEM?\n",
    "Obs: A taxa é considerando primeira e segunda escolha."
   ]
  },
  {
   "cell_type": "code",
   "execution_count": 4,
   "metadata": {},
   "outputs": [
    {
     "name": "stderr",
     "output_type": "stream",
     "text": [
      "/tmp/ipykernel_8878/886975928.py:2: FutureWarning: Series.__getitem__ treating keys as positions is deprecated. In a future version, integer keys will always be treated as labels (consistent with DataFrame behavior). To access a value by position, use `ser.iloc[pos]`\n",
      "  round(((dados['APROVADO'].value_counts()[1]/dados.shape[0])*100), 2)\n"
     ]
    },
    {
     "data": {
      "text/plain": [
       "10.18"
      ]
     },
     "execution_count": 4,
     "metadata": {},
     "output_type": "execute_result"
    }
   ],
   "source": [
    "# Calculando a porcentagem de aprovados\n",
    "round(((dados['APROVADO'].value_counts()[1]/dados.shape[0])*100), 2)"
   ]
  },
  {
   "cell_type": "markdown",
   "metadata": {},
   "source": [
    "# Qual a maior e a menor nota de aprovação?"
   ]
  },
  {
   "cell_type": "code",
   "execution_count": 5,
   "metadata": {},
   "outputs": [],
   "source": [
    "# Alterando a vírula por um ponto\n",
    "dados['NOTA_CANDIDATO'] = dados['NOTA_CANDIDATO'].str.replace(',', '.')\n",
    "\n",
    "# Alterando o tipo do dado para float\n",
    "dados['NOTA_CANDIDATO'] = dados['NOTA_CANDIDATO'].astype(float)"
   ]
  },
  {
   "cell_type": "code",
   "execution_count": 6,
   "metadata": {},
   "outputs": [
    {
     "data": {
      "text/plain": [
       "953.14"
      ]
     },
     "execution_count": 6,
     "metadata": {},
     "output_type": "execute_result"
    }
   ],
   "source": [
    "# Buscando a maior nota média de um aprovado\n",
    "dados.query(\"APROVADO == 'S'\")[\"NOTA_CANDIDATO\"].max()"
   ]
  },
  {
   "cell_type": "code",
   "execution_count": 7,
   "metadata": {},
   "outputs": [
    {
     "data": {
      "text/plain": [
       "208.79"
      ]
     },
     "execution_count": 7,
     "metadata": {},
     "output_type": "execute_result"
    }
   ],
   "source": [
    "# Buscando a menor nota média de um aprovado\n",
    "dados.query(\"APROVADO == 'S'\")[\"NOTA_CANDIDATO\"].min()"
   ]
  },
  {
   "cell_type": "code",
   "execution_count": 8,
   "metadata": {},
   "outputs": [
    {
     "data": {
      "text/plain": [
       "690.78"
      ]
     },
     "execution_count": 8,
     "metadata": {},
     "output_type": "execute_result"
    }
   ],
   "source": [
    "# Verificando o terceiro quartil das notas dos aprovados\n",
    "dados.query(\"APROVADO == 'S'\")[\"NOTA_CANDIDATO\"].quantile(0.75)"
   ]
  },
  {
   "cell_type": "code",
   "execution_count": 9,
   "metadata": {},
   "outputs": [
    {
     "data": {
      "text/plain": [
       "634.66"
      ]
     },
     "execution_count": 9,
     "metadata": {},
     "output_type": "execute_result"
    }
   ],
   "source": [
    "# Verificando o primeiro quartil das notas dos aprovados\n",
    "dados.query(\"APROVADO == 'S'\")[\"NOTA_CANDIDATO\"].quantile(0.50)"
   ]
  },
  {
   "cell_type": "markdown",
   "metadata": {},
   "source": [
    "# Dos aprovados, quantos porcento foram aceitos na primeira opção? E na segunda?"
   ]
  },
  {
   "cell_type": "code",
   "execution_count": 10,
   "metadata": {},
   "outputs": [
    {
     "data": {
      "text/plain": [
       "63.85"
      ]
     },
     "execution_count": 10,
     "metadata": {},
     "output_type": "execute_result"
    }
   ],
   "source": [
    "# Calculando a porcentagem de aceitos na primeira opção de curso\n",
    "round(((dados.query(\"APROVADO == 'S' and OPCAO == 1\").shape[0]/dados.query(\"APROVADO == 'S'\").shape[0]) * 100), 2)"
   ]
  },
  {
   "cell_type": "code",
   "execution_count": 11,
   "metadata": {},
   "outputs": [
    {
     "data": {
      "text/plain": [
       "36.15"
      ]
     },
     "execution_count": 11,
     "metadata": {},
     "output_type": "execute_result"
    }
   ],
   "source": [
    "# Calculando a porcentagem de aceitos na segunda opção de curso\n",
    "round(((dados.query(\"APROVADO == 'S' and OPCAO == 2\").shape[0]/dados.query(\"APROVADO == 'S'\").shape[0]) * 100), 2)"
   ]
  },
  {
   "cell_type": "markdown",
   "metadata": {},
   "source": [
    "# Qual a probabilidade de ser aprovado na segunda opção dado que foi reprovado na primeira?"
   ]
  },
  {
   "cell_type": "code",
   "execution_count": 12,
   "metadata": {},
   "outputs": [],
   "source": [
    "# Buscando todos os reprovados na primeira opção de curso\n",
    "reprovados_1_opcao = dados.query(\"APROVADO == 'N' and OPCAO == 1\")\n",
    "\n",
    "# Buscando todos os aprovados na segunda opção de curso\n",
    "aprovados_2_opcao = dados.query(\"APROVADO == 'S' and OPCAO == 2\")\n"
   ]
  },
  {
   "cell_type": "code",
   "execution_count": 14,
   "metadata": {},
   "outputs": [],
   "source": [
    "# Obtendo a lista de inscritos aprovados e seus respectivos CPFs\n",
    "df_inscritos_aprovados = aprovados_2_opcao.groupby(\"CPF\").INSCRITO.value_counts().to_frame().reset_index()\n",
    "df_inscritos_aprovados = df_inscritos_aprovados.drop(columns = \"count\")\n",
    "\n",
    "# Obtendo a lista de inscritos reprovados e seus respectivos CPFs\n",
    "df_inscritos_reprovados = reprovados_1_opcao.groupby(\"CPF\").INSCRITO.value_counts().to_frame().reset_index()\n",
    "df_inscritos_reprovados = df_inscritos_reprovados.drop(columns = \"count\")\n",
    "\n",
    "#qtd_reprovados_opcao_1_aprovados_opcao_2 = "
   ]
  },
  {
   "cell_type": "code",
   "execution_count": 17,
   "metadata": {},
   "outputs": [
    {
     "ename": "KeyboardInterrupt",
     "evalue": "",
     "output_type": "error",
     "traceback": [
      "\u001b[0;31m---------------------------------------------------------------------------\u001b[0m",
      "\u001b[0;31mKeyboardInterrupt\u001b[0m                         Traceback (most recent call last)",
      "\u001b[1;32m/home/daniel/Documents/ecommerce_inference/notebooks/EDA_SISU.ipynb Célula 19\u001b[0m line \u001b[0;36m4\n\u001b[1;32m      <a href='vscode-notebook-cell:/home/daniel/Documents/ecommerce_inference/notebooks/EDA_SISU.ipynb#X24sZmlsZQ%3D%3D?line=1'>2</a>\u001b[0m qtd_reprovados_opcao_1_aprovados_opcao_2 \u001b[39m=\u001b[39m \u001b[39m0\u001b[39m\n\u001b[1;32m      <a href='vscode-notebook-cell:/home/daniel/Documents/ecommerce_inference/notebooks/EDA_SISU.ipynb#X24sZmlsZQ%3D%3D?line=2'>3</a>\u001b[0m \u001b[39mfor\u001b[39;00m inscrito, cpf \u001b[39min\u001b[39;00m \u001b[39mzip\u001b[39m(df_inscritos_aprovados\u001b[39m.\u001b[39mINSCRITO, df_inscritos_aprovados\u001b[39m.\u001b[39mCPF):\n\u001b[0;32m----> <a href='vscode-notebook-cell:/home/daniel/Documents/ecommerce_inference/notebooks/EDA_SISU.ipynb#X24sZmlsZQ%3D%3D?line=3'>4</a>\u001b[0m     qtd \u001b[39m=\u001b[39m df_inscritos_reprovados[(df_inscritos_reprovados[\u001b[39m'\u001b[39;49m\u001b[39mCPF\u001b[39;49m\u001b[39m'\u001b[39;49m] \u001b[39m==\u001b[39;49m cpf) \u001b[39m&\u001b[39m (df_inscritos_reprovados[\u001b[39m'\u001b[39m\u001b[39mINSCRITO\u001b[39m\u001b[39m'\u001b[39m] \u001b[39m==\u001b[39m inscrito)]\u001b[39m.\u001b[39mshape[\u001b[39m0\u001b[39m]\n\u001b[1;32m      <a href='vscode-notebook-cell:/home/daniel/Documents/ecommerce_inference/notebooks/EDA_SISU.ipynb#X24sZmlsZQ%3D%3D?line=4'>5</a>\u001b[0m     \u001b[39mif\u001b[39;00m qtd \u001b[39m>\u001b[39m \u001b[39m0\u001b[39m:\n\u001b[1;32m      <a href='vscode-notebook-cell:/home/daniel/Documents/ecommerce_inference/notebooks/EDA_SISU.ipynb#X24sZmlsZQ%3D%3D?line=5'>6</a>\u001b[0m         qtd_reprovados_opcao_1_aprovados_opcao_2 \u001b[39m+\u001b[39m\u001b[39m=\u001b[39m \u001b[39m1\u001b[39m\n",
      "File \u001b[0;32m~/Documents/ecommerce_inference/venv/lib/python3.10/site-packages/pandas/core/ops/common.py:76\u001b[0m, in \u001b[0;36m_unpack_zerodim_and_defer.<locals>.new_method\u001b[0;34m(self, other)\u001b[0m\n\u001b[1;32m     72\u001b[0m             \u001b[39mreturn\u001b[39;00m \u001b[39mNotImplemented\u001b[39m\n\u001b[1;32m     74\u001b[0m other \u001b[39m=\u001b[39m item_from_zerodim(other)\n\u001b[0;32m---> 76\u001b[0m \u001b[39mreturn\u001b[39;00m method(\u001b[39mself\u001b[39;49m, other)\n",
      "File \u001b[0;32m~/Documents/ecommerce_inference/venv/lib/python3.10/site-packages/pandas/core/arraylike.py:40\u001b[0m, in \u001b[0;36mOpsMixin.__eq__\u001b[0;34m(self, other)\u001b[0m\n\u001b[1;32m     38\u001b[0m \u001b[39m@unpack_zerodim_and_defer\u001b[39m(\u001b[39m\"\u001b[39m\u001b[39m__eq__\u001b[39m\u001b[39m\"\u001b[39m)\n\u001b[1;32m     39\u001b[0m \u001b[39mdef\u001b[39;00m \u001b[39m__eq__\u001b[39m(\u001b[39mself\u001b[39m, other):\n\u001b[0;32m---> 40\u001b[0m     \u001b[39mreturn\u001b[39;00m \u001b[39mself\u001b[39;49m\u001b[39m.\u001b[39;49m_cmp_method(other, operator\u001b[39m.\u001b[39;49meq)\n",
      "File \u001b[0;32m~/Documents/ecommerce_inference/venv/lib/python3.10/site-packages/pandas/core/series.py:5799\u001b[0m, in \u001b[0;36mSeries._cmp_method\u001b[0;34m(self, other, op)\u001b[0m\n\u001b[1;32m   5796\u001b[0m lvalues \u001b[39m=\u001b[39m \u001b[39mself\u001b[39m\u001b[39m.\u001b[39m_values\n\u001b[1;32m   5797\u001b[0m rvalues \u001b[39m=\u001b[39m extract_array(other, extract_numpy\u001b[39m=\u001b[39m\u001b[39mTrue\u001b[39;00m, extract_range\u001b[39m=\u001b[39m\u001b[39mTrue\u001b[39;00m)\n\u001b[0;32m-> 5799\u001b[0m res_values \u001b[39m=\u001b[39m ops\u001b[39m.\u001b[39;49mcomparison_op(lvalues, rvalues, op)\n\u001b[1;32m   5801\u001b[0m \u001b[39mreturn\u001b[39;00m \u001b[39mself\u001b[39m\u001b[39m.\u001b[39m_construct_result(res_values, name\u001b[39m=\u001b[39mres_name)\n",
      "File \u001b[0;32m~/Documents/ecommerce_inference/venv/lib/python3.10/site-packages/pandas/core/ops/array_ops.py:346\u001b[0m, in \u001b[0;36mcomparison_op\u001b[0;34m(left, right, op)\u001b[0m\n\u001b[1;32m    343\u001b[0m     \u001b[39mreturn\u001b[39;00m invalid_comparison(lvalues, rvalues, op)\n\u001b[1;32m    345\u001b[0m \u001b[39melif\u001b[39;00m lvalues\u001b[39m.\u001b[39mdtype \u001b[39m==\u001b[39m \u001b[39mobject\u001b[39m \u001b[39mor\u001b[39;00m \u001b[39misinstance\u001b[39m(rvalues, \u001b[39mstr\u001b[39m):\n\u001b[0;32m--> 346\u001b[0m     res_values \u001b[39m=\u001b[39m comp_method_OBJECT_ARRAY(op, lvalues, rvalues)\n\u001b[1;32m    348\u001b[0m \u001b[39melse\u001b[39;00m:\n\u001b[1;32m    349\u001b[0m     res_values \u001b[39m=\u001b[39m _na_arithmetic_op(lvalues, rvalues, op, is_cmp\u001b[39m=\u001b[39m\u001b[39mTrue\u001b[39;00m)\n",
      "File \u001b[0;32m~/Documents/ecommerce_inference/venv/lib/python3.10/site-packages/pandas/core/ops/array_ops.py:131\u001b[0m, in \u001b[0;36mcomp_method_OBJECT_ARRAY\u001b[0;34m(op, x, y)\u001b[0m\n\u001b[1;32m    129\u001b[0m     result \u001b[39m=\u001b[39m libops\u001b[39m.\u001b[39mvec_compare(x\u001b[39m.\u001b[39mravel(), y\u001b[39m.\u001b[39mravel(), op)\n\u001b[1;32m    130\u001b[0m \u001b[39melse\u001b[39;00m:\n\u001b[0;32m--> 131\u001b[0m     result \u001b[39m=\u001b[39m libops\u001b[39m.\u001b[39;49mscalar_compare(x\u001b[39m.\u001b[39;49mravel(), y, op)\n\u001b[1;32m    132\u001b[0m \u001b[39mreturn\u001b[39;00m result\u001b[39m.\u001b[39mreshape(x\u001b[39m.\u001b[39mshape)\n",
      "\u001b[0;31mKeyboardInterrupt\u001b[0m: "
     ]
    }
   ],
   "source": [
    "# Obtendo a quantidade de inscritos aprovados\n",
    "qtd_reprovados_opcao_1_aprovados_opcao_2 = 0\n",
    "for inscrito, cpf in zip(df_inscritos_aprovados.INSCRITO, df_inscritos_aprovados.CPF):\n",
    "    qtd = df_inscritos_reprovados[(df_inscritos_reprovados['CPF'] == cpf) & (df_inscritos_reprovados['INSCRITO'] == inscrito)].shape[0]\n",
    "    if qtd > 0:\n",
    "        qtd_reprovados_opcao_1_aprovados_opcao_2 += 1\n",
    "    else:\n",
    "        continue"
   ]
  },
  {
   "cell_type": "code",
   "execution_count": 9,
   "metadata": {},
   "outputs": [],
   "source": [
    "\n",
    "# Calculando a porcentagem de reprovados na primeira opção de curso\n",
    "prcnt_reprovados_1_opcao = round(((reprovados_1_opcao.shape[0]/dados.shape[0]) * 100), 2)\n",
    "\n",
    "# Calculando a porcentagem de aprovados na segunda opção de curso\n",
    "prcnt_aprovados_2_opcao = round(((aprovados_2_opcao.shape[0]/dados.shape[0]) * 100), 2)\n",
    "\n",
    "# Calculando a porcentagem de reprovados na primeira opção de curso que foram aprovados na segunda opção de curso\n",
    "prcnt_reprovados_1_opcao_aprovados_2_opcao = round(((qtd_reprovados_opcao_1_aprovados_opcao_2/dados.shape[0]) * 100), 2)"
   ]
  }
 ],
 "metadata": {
  "kernelspec": {
   "display_name": "venv",
   "language": "python",
   "name": "python3"
  },
  "language_info": {
   "codemirror_mode": {
    "name": "ipython",
    "version": 3
   },
   "file_extension": ".py",
   "mimetype": "text/x-python",
   "name": "python",
   "nbconvert_exporter": "python",
   "pygments_lexer": "ipython3",
   "version": "3.10.12"
  }
 },
 "nbformat": 4,
 "nbformat_minor": 2
}
