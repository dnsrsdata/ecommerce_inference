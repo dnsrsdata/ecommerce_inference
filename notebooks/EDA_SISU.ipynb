{
 "cells": [
  {
   "cell_type": "code",
   "execution_count": 2,
   "metadata": {},
   "outputs": [],
   "source": [
    "import numpy as np\n",
    "from pyspark.sql import SparkSession"
   ]
  },
  {
   "cell_type": "code",
   "execution_count": 4,
   "metadata": {},
   "outputs": [
    {
     "name": "stderr",
     "output_type": "stream",
     "text": [
      "23/11/27 08:57:12 WARN Utils: Your hostname, daniel-VJFE43F11X-XXXXXX resolves to a loopback address: 127.0.1.1; using 192.168.0.157 instead (on interface wlo1)\n",
      "23/11/27 08:57:12 WARN Utils: Set SPARK_LOCAL_IP if you need to bind to another address\n",
      "Setting default log level to \"WARN\".\n",
      "To adjust logging level use sc.setLogLevel(newLevel). For SparkR, use setLogLevel(newLevel).\n",
      "23/11/27 08:57:13 WARN NativeCodeLoader: Unable to load native-hadoop library for your platform... using builtin-java classes where applicable\n"
     ]
    }
   ],
   "source": [
    "# Criando uma sessão spark\n",
    "spark = SparkSession.builder.appName(\"EDA_SISU\").getOrCreate()"
   ]
  },
  {
   "cell_type": "code",
   "execution_count": 13,
   "metadata": {},
   "outputs": [],
   "source": [
    "# Lendo o arquivo csv\n",
    "dados = spark.read.csv(\"../data/chamada_regular_sisu_2022_1.csv\", header=True, sep=\"|\", encoding=\"latin1\")"
   ]
  },
  {
   "cell_type": "code",
   "execution_count": 14,
   "metadata": {},
   "outputs": [
    {
     "name": "stdout",
     "output_type": "stream",
     "text": [
      "+----+------+-----+---------------+----------+--------------------+---------+------+-------------+--------------------+---------+----------------+------------+--------------------+-----------+-------+----------------+-------+---------------------+------------------+---------------------+----------------+------+-------+-------+------+------+-------------+--------------+--------------+-------------+-------------+------------+-------------+--------------+--------------------+----+---------------+------------+-------------------+-----+------+-------+-------+------+------+---------------+----------------+----------------+---------------+---------------+--------------+----------+-------------+--------+--------------+\n",
      "| ANO|EDICAO|ETAPA|       DS_ETAPA|CODIGO_IES|            NOME_IES|SIGLA_IES|UF_IES|CODIGO_CAMPUS|         NOME_CAMPUS|UF_CAMPUS|MUNICIPIO_CAMPUS|CODIGO_CURSO|          NOME_CURSO|       GRAU|  TURNO|DS_PERIODICIDADE|TP_COTA|TIPO_MOD_CONCORRENCIA|  MOD_CONCORRENCIA|QT_VAGAS_CONCORRENCIA|PERCENTUAL_BONUS|PESO_L|PESO_CH|PESO_CN|PESO_M|PESO_R|NOTA_MINIMA_L|NOTA_MINIMA_CH|NOTA_MINIMA_CN|NOTA_MINIMA_M|NOTA_MINIMA_R|MEDIA_MINIMA|          CPF|INSCRICAO_ENEM|            INSCRITO|SEXO|DATA_NASCIMENTO|UF_CANDIDATO|MUNICIPIO_CANDIDATO|OPCAO|NOTA_L|NOTA_CH|NOTA_CN|NOTA_M|NOTA_R|NOTA_L_COM_PESO|NOTA_CH_COM_PESO|NOTA_CN_COM_PESO|NOTA_M_COM_PESO|NOTA_R_COM_PESO|NOTA_CANDIDATO|NOTA_CORTE|CLASSIFICACAO|APROVADO|     MATRICULA|\n",
      "+----+------+-----+---------------+----------+--------------------+---------+------+-------------+--------------------+---------+----------------+------------+--------------------+-----------+-------+----------------+-------+---------------------+------------------+---------------------+----------------+------+-------+-------+------+------+-------------+--------------+--------------+-------------+-------------+------------+-------------+--------------+--------------------+----+---------------+------------+-------------------+-----+------+-------+-------+------+------+---------------+----------------+----------------+---------------+---------------+--------------+----------+-------------+--------+--------------+\n",
      "|2022|     1|    4|CHAMADA REGULAR|       593|CENTRO FEDERAL DE...| CEFET/RJ|    RJ|         1663|CEFET-RJ - MARIA ...|       RJ|  Rio de Janeiro|     1441998|SISTEMAS DE INFOR...|Bacharelado|Noturno|       Semestral|   NULL|                    A|Ampla concorrência|                   15|            NULL|     1|      1|      2|     4|     3|        453,8|         444,7|         453,3|        438,4|          300|      418,04|XXX.015687-XX|  211XXXXXX424|ABRAAO CARDOSO DO...|   M|     20/08/1979|          RJ|       Belford Roxo|    2| 564,8|  600,5|  616,9| 711,1|   580|          564,8|           600,5|          1233,8|         2844,4|           1740|        634,86|    718,99|           61|       N|      PENDENTE|\n",
      "|2022|     1|    4|CHAMADA REGULAR|       593|CENTRO FEDERAL DE...| CEFET/RJ|    RJ|         1663|CEFET-RJ - MARIA ...|       RJ|  Rio de Janeiro|     1441998|SISTEMAS DE INFOR...|Bacharelado|Noturno|       Semestral|   NULL|                    A|Ampla concorrência|                   15|            NULL|     1|      1|      2|     4|     3|        453,8|         444,7|         453,3|        438,4|          300|      418,04|XXX.781997-XX|  211XXXXXX857|    ADHAM GREG DIEHL|   M|     01/04/1986|          RJ|     Rio de Janeiro|    1|   650|  669,9|  618,3| 698,7|   640|            650|           669,9|          1236,6|         2794,8|           1920|        661,03|    718,99|           45|       N|      PENDENTE|\n",
      "|2022|     1|    4|CHAMADA REGULAR|       593|CENTRO FEDERAL DE...| CEFET/RJ|    RJ|         1663|CEFET-RJ - MARIA ...|       RJ|  Rio de Janeiro|     1441998|SISTEMAS DE INFOR...|Bacharelado|Noturno|       Semestral|   NULL|                    A|Ampla concorrência|                   15|            NULL|     1|      1|      2|     4|     3|        453,8|         444,7|         453,3|        438,4|          300|      418,04|XXX.040767-XX|  211XXXXXX696|ALEX SANDRO DA CO...|   M|     31/01/2004|          RJ|    Duque de Caxias|    2| 618,7|  602,2|  666,3|   679|   880|          618,7|           602,2|          1332,6|           2716|           2640|        719,05|    718,99|           14|       S|NÃO COMPARECEU|\n",
      "|2022|     1|    4|CHAMADA REGULAR|       593|CENTRO FEDERAL DE...| CEFET/RJ|    RJ|         1663|CEFET-RJ - MARIA ...|       RJ|  Rio de Janeiro|     1441998|SISTEMAS DE INFOR...|Bacharelado|Noturno|       Semestral|   NULL|                    A|Ampla concorrência|                   15|            NULL|     1|      1|      2|     4|     3|        453,8|         444,7|         453,3|        438,4|          300|      418,04|XXX.630087-XX|  211XXXXXX981|  ANDRE LOPES BIONDE|   M|     06/05/2000|          RJ|     Rio de Janeiro|    2| 543,6|  514,6|  455,5| 662,9|   520|          543,6|           514,6|             911|         2651,6|           1560|        561,89|    718,99|           90|       N|      PENDENTE|\n",
      "|2022|     1|    4|CHAMADA REGULAR|       593|CENTRO FEDERAL DE...| CEFET/RJ|    RJ|         1663|CEFET-RJ - MARIA ...|       RJ|  Rio de Janeiro|     1441998|SISTEMAS DE INFOR...|Bacharelado|Noturno|       Semestral|   NULL|                    A|Ampla concorrência|                   15|            NULL|     1|      1|      2|     4|     3|        453,8|         444,7|         453,3|        438,4|          300|      418,04|XXX.802497-XX|  211XXXXXX762|ANDRE LUIZ DE SOU...|   M|     20/09/1997|          RJ|          Nilópolis|    2| 637,8|  741,4|  595,4| 671,7|   640|          637,8|           741,4|          1190,8|         2686,8|           1920|        652,44|    718,99|           51|       N|      PENDENTE|\n",
      "+----+------+-----+---------------+----------+--------------------+---------+------+-------------+--------------------+---------+----------------+------------+--------------------+-----------+-------+----------------+-------+---------------------+------------------+---------------------+----------------+------+-------+-------+------+------+-------------+--------------+--------------+-------------+-------------+------------+-------------+--------------+--------------------+----+---------------+------------+-------------------+-----+------+-------+-------+------+------+---------------+----------------+----------------+---------------+---------------+--------------+----------+-------------+--------+--------------+\n",
      "only showing top 5 rows\n",
      "\n"
     ]
    }
   ],
   "source": [
    "# Observando o estado inicial dos dados\n",
    "dados.show(5)"
   ]
  },
  {
   "cell_type": "code",
   "execution_count": 15,
   "metadata": {},
   "outputs": [],
   "source": [
    "# Permitindo usar SQL nos dados\n",
    "dados.createOrReplaceTempView(\"dados\")"
   ]
  },
  {
   "cell_type": "markdown",
   "metadata": {},
   "source": [
    "A partir dos dados iniciais do SISU, vamos fazer uma análise exploratória dos dados para responder as seguintes perguntas: \n",
    "- Qual a porcentagem de aprovados?\n",
    "- Qual a maior e menor nota de aprovação?\n",
    "- Dos aprovados, quantos porcento foram aceitos na primeira opção? E na segunda?\n",
    "- Qual a probabilidade de ser aprovado na segunda opção dado que foi reprovado na primeira?\n",
    "- Qual a porcentagem de cotistas aplicantes?\n",
    "- Destes, qual a porcentagem de aprovados?\n",
    "- Qual a porcentagem de cotistas aprovados na primeira opção? E na segunda?\n",
    "- Qual a probabilidade de ser aprovado na primeira opção sendo um cotista? E na segunda?\n",
    "- Há diferença na probabilidade de ser aprovado em um curso dado as modalidades de concorrência (cotas, ampla concorrência, etc)?\n",
    "- Há alguma diferença na probabilidade de ser aprovado em um curso dado o seu turno?\n",
    "- Há alguma diferença na probabilidade de ser aprovado em um curso dado o seu grau?\n",
    "- No geral, qual a probabilidade de ser aprovado dada diferentes notas de corte?\n",
    "\n",
    "**Brincar com as notas e os pesos para aprovação.**"
   ]
  },
  {
   "cell_type": "markdown",
   "metadata": {},
   "source": [
    "# Qual a taxa de aprovação do ENEM?\n",
    "Obs: A taxa é considerando primeira e segunda escolha."
   ]
  },
  {
   "cell_type": "code",
   "execution_count": 26,
   "metadata": {},
   "outputs": [
    {
     "name": "stderr",
     "output_type": "stream",
     "text": [
      "[Stage 41:>                                                         (0 + 8) / 8]\r"
     ]
    },
    {
     "name": "stdout",
     "output_type": "stream",
     "text": [
      "Taxa de aprovados: 10.18%\n"
     ]
    },
    {
     "name": "stderr",
     "output_type": "stream",
     "text": [
      "                                                                                \r"
     ]
    }
   ],
   "source": [
    "# Calculando a taxa de aprovados\n",
    "qtd_aprovados = spark.sql(\"SELECT ROUND(COUNT(*), 2) \\\n",
    "                           FROM dados \\\n",
    "                           WHERE APROVADO = 'S'\").collect()[0][0]\n",
    "\n",
    "# Calculando o total de registros\n",
    "total_de_registros = spark.sql(\"SELECT COUNT(*) FROM dados\").collect()[0][0]\n",
    "\n",
    "print(f\"Taxa de aprovados: {round(qtd_aprovados / total_de_registros * 100, 2)}%\")"
   ]
  },
  {
   "cell_type": "markdown",
   "metadata": {},
   "source": [
    "# Qual a maior e a menor nota de aprovação?"
   ]
  },
  {
   "cell_type": "code",
   "execution_count": 29,
   "metadata": {},
   "outputs": [
    {
     "name": "stderr",
     "output_type": "stream",
     "text": [
      "[Stage 47:=============================>                            (4 + 4) / 8]\r"
     ]
    },
    {
     "name": "stdout",
     "output_type": "stream",
     "text": [
      "Menor nota de candidatos aprovados: 208,79\n"
     ]
    },
    {
     "name": "stderr",
     "output_type": "stream",
     "text": [
      "                                                                                \r"
     ]
    }
   ],
   "source": [
    "# Buscando a menor nota de candidatos aprovados\n",
    "menor_nota = spark.sql(\"SELECT MIN(NOTA_CANDIDATO) \\\n",
    "                        FROM dados \\\n",
    "                        WHERE APROVADO = 'S'\").collect()[0][0]\n",
    "\n",
    "print(f\"Menor nota de candidatos aprovados: {menor_nota}\")"
   ]
  },
  {
   "cell_type": "code",
   "execution_count": 30,
   "metadata": {},
   "outputs": [
    {
     "name": "stderr",
     "output_type": "stream",
     "text": [
      "[Stage 50:=============================>                            (4 + 4) / 8]\r"
     ]
    },
    {
     "name": "stdout",
     "output_type": "stream",
     "text": [
      "Maior nota de candidatos aprovados: 953,14\n"
     ]
    },
    {
     "name": "stderr",
     "output_type": "stream",
     "text": [
      "                                                                                \r"
     ]
    }
   ],
   "source": [
    "# Buscando a maior nota de candidatos aprovados\n",
    "maior_nota = spark.sql(\"SELECT MAX(NOTA_CANDIDATO) \\\n",
    "                        FROM dados \\\n",
    "                        WHERE APROVADO = 'S'\").collect()[0][0]\n",
    "\n",
    "print(f\"Maior nota de candidatos aprovados: {maior_nota}\")"
   ]
  },
  {
   "cell_type": "code",
   "execution_count": 32,
   "metadata": {},
   "outputs": [
    {
     "name": "stderr",
     "output_type": "stream",
     "text": [
      "[Stage 56:=============================>                            (4 + 4) / 8]\r"
     ]
    },
    {
     "name": "stdout",
     "output_type": "stream",
     "text": [
      "75% das notas dos aprovados está abaixo de 686.0\n"
     ]
    },
    {
     "name": "stderr",
     "output_type": "stream",
     "text": [
      "                                                                                \r"
     ]
    }
   ],
   "source": [
    "# Verificando o terceiro quartil das notas de candidatos aprovados\n",
    "terceiro_quartil = spark.sql(\"SELECT PERCENTILE(NOTA_CANDIDATO, 0.75) \\\n",
    "                              FROM dados \\\n",
    "                              WHERE APROVADO = 'S'\").collect()[0][0]\n",
    "\n",
    "print(f\"75% das notas dos aprovados está abaixo de {terceiro_quartil}\")"
   ]
  },
  {
   "cell_type": "code",
   "execution_count": 33,
   "metadata": {},
   "outputs": [
    {
     "name": "stderr",
     "output_type": "stream",
     "text": [
      "[Stage 59:=======>                                                  (1 + 7) / 8]\r"
     ]
    },
    {
     "name": "stdout",
     "output_type": "stream",
     "text": [
      "25% das notas dos aprovados está abaixo de 577.0\n"
     ]
    },
    {
     "name": "stderr",
     "output_type": "stream",
     "text": [
      "                                                                                \r"
     ]
    }
   ],
   "source": [
    "# Verificando o primeiro quartil das notas dos candidatos aprovados\n",
    "primeiro_quartil = spark.sql(\"SELECT PERCENTILE(NOTA_CANDIDATO, 0.25) \\\n",
    "                              FROM dados \\\n",
    "                              WHERE APROVADO = 'S'\").collect()[0][0]\n",
    "\n",
    "print(f\"25% das notas dos aprovados está abaixo de {primeiro_quartil}\")\n"
   ]
  },
  {
   "cell_type": "markdown",
   "metadata": {},
   "source": [
    "# Dos aprovados, quantos porcento foram aceitos na primeira opção? E na segunda?"
   ]
  },
  {
   "cell_type": "code",
   "execution_count": 34,
   "metadata": {},
   "outputs": [
    {
     "name": "stderr",
     "output_type": "stream",
     "text": [
      "[Stage 62:=============================>                            (4 + 4) / 8]\r"
     ]
    },
    {
     "name": "stdout",
     "output_type": "stream",
     "text": [
      "Do total de aprovados, 63.85% foram aceitos na primeira opção\n"
     ]
    },
    {
     "name": "stderr",
     "output_type": "stream",
     "text": [
      "                                                                                \r"
     ]
    }
   ],
   "source": [
    "# Buscando o número de aprovados na primeira opção\n",
    "aprovados_primeira_opcao = spark.sql(\"SELECT COUNT(*) \\\n",
    "                                      FROM dados \\\n",
    "                                      WHERE APROVADO = 'S' \\\n",
    "                                      AND OPCAO = 1\").collect()[0][0]\n",
    "\n",
    "print(f\"Do total de aprovados, {round(aprovados_primeira_opcao / qtd_aprovados * 100, 2)}% foram aceitos na primeira opção\")"
   ]
  },
  {
   "cell_type": "code",
   "execution_count": 35,
   "metadata": {},
   "outputs": [
    {
     "name": "stderr",
     "output_type": "stream",
     "text": [
      "[Stage 65:===========================================>              (6 + 2) / 8]\r"
     ]
    },
    {
     "name": "stdout",
     "output_type": "stream",
     "text": [
      "Do total de aprovados, 36.15% foram aceitos na segunda opção\n"
     ]
    },
    {
     "name": "stderr",
     "output_type": "stream",
     "text": [
      "                                                                                \r"
     ]
    }
   ],
   "source": [
    "# Calculando os aprovados somente na segunda opção\n",
    "aprovados_segunda_opcao = spark.sql(\"SELECT COUNT(*) \\\n",
    "                                     FROM dados \\\n",
    "                                     WHERE APROVADO = 'S' \\\n",
    "                                     AND OPCAO = 2\").collect()[0][0]\n",
    "\n",
    "print(f\"Do total de aprovados, {round(aprovados_segunda_opcao / qtd_aprovados * 100, 2)}% foram aceitos na segunda opção\")"
   ]
  },
  {
   "cell_type": "markdown",
   "metadata": {},
   "source": [
    "# Qual a probabilidade de ser aprovado na segunda opção dado que foi reprovado na primeira?"
   ]
  },
  {
   "cell_type": "code",
   "execution_count": 12,
   "metadata": {},
   "outputs": [],
   "source": [
    "# Buscando todos os reprovados na primeira opção de curso\n",
    "reprovados_1_opcao = dados.query(\"APROVADO == 'N' and OPCAO == 1\")\n",
    "\n",
    "# Buscando todos os aprovados na segunda opção de curso\n",
    "aprovados_2_opcao = dados.query(\"APROVADO == 'S' and OPCAO == 2\")\n"
   ]
  },
  {
   "cell_type": "code",
   "execution_count": 14,
   "metadata": {},
   "outputs": [],
   "source": [
    "# Obtendo a lista de inscritos aprovados e seus respectivos CPFs\n",
    "df_inscritos_aprovados = aprovados_2_opcao.groupby(\"CPF\").INSCRITO.value_counts().to_frame().reset_index()\n",
    "df_inscritos_aprovados = df_inscritos_aprovados.drop(columns = \"count\")\n",
    "\n",
    "# Obtendo a lista de inscritos reprovados e seus respectivos CPFs\n",
    "df_inscritos_reprovados = reprovados_1_opcao.groupby(\"CPF\").INSCRITO.value_counts().to_frame().reset_index()\n",
    "df_inscritos_reprovados = df_inscritos_reprovados.drop(columns = \"count\")\n",
    "\n",
    "#qtd_reprovados_opcao_1_aprovados_opcao_2 = "
   ]
  },
  {
   "cell_type": "code",
   "execution_count": 17,
   "metadata": {},
   "outputs": [
    {
     "ename": "KeyboardInterrupt",
     "evalue": "",
     "output_type": "error",
     "traceback": [
      "\u001b[0;31m---------------------------------------------------------------------------\u001b[0m",
      "\u001b[0;31mKeyboardInterrupt\u001b[0m                         Traceback (most recent call last)",
      "\u001b[1;32m/home/daniel/Documents/ecommerce_inference/notebooks/EDA_SISU.ipynb Célula 19\u001b[0m line \u001b[0;36m4\n\u001b[1;32m      <a href='vscode-notebook-cell:/home/daniel/Documents/ecommerce_inference/notebooks/EDA_SISU.ipynb#X24sZmlsZQ%3D%3D?line=1'>2</a>\u001b[0m qtd_reprovados_opcao_1_aprovados_opcao_2 \u001b[39m=\u001b[39m \u001b[39m0\u001b[39m\n\u001b[1;32m      <a href='vscode-notebook-cell:/home/daniel/Documents/ecommerce_inference/notebooks/EDA_SISU.ipynb#X24sZmlsZQ%3D%3D?line=2'>3</a>\u001b[0m \u001b[39mfor\u001b[39;00m inscrito, cpf \u001b[39min\u001b[39;00m \u001b[39mzip\u001b[39m(df_inscritos_aprovados\u001b[39m.\u001b[39mINSCRITO, df_inscritos_aprovados\u001b[39m.\u001b[39mCPF):\n\u001b[0;32m----> <a href='vscode-notebook-cell:/home/daniel/Documents/ecommerce_inference/notebooks/EDA_SISU.ipynb#X24sZmlsZQ%3D%3D?line=3'>4</a>\u001b[0m     qtd \u001b[39m=\u001b[39m df_inscritos_reprovados[(df_inscritos_reprovados[\u001b[39m'\u001b[39;49m\u001b[39mCPF\u001b[39;49m\u001b[39m'\u001b[39;49m] \u001b[39m==\u001b[39;49m cpf) \u001b[39m&\u001b[39m (df_inscritos_reprovados[\u001b[39m'\u001b[39m\u001b[39mINSCRITO\u001b[39m\u001b[39m'\u001b[39m] \u001b[39m==\u001b[39m inscrito)]\u001b[39m.\u001b[39mshape[\u001b[39m0\u001b[39m]\n\u001b[1;32m      <a href='vscode-notebook-cell:/home/daniel/Documents/ecommerce_inference/notebooks/EDA_SISU.ipynb#X24sZmlsZQ%3D%3D?line=4'>5</a>\u001b[0m     \u001b[39mif\u001b[39;00m qtd \u001b[39m>\u001b[39m \u001b[39m0\u001b[39m:\n\u001b[1;32m      <a href='vscode-notebook-cell:/home/daniel/Documents/ecommerce_inference/notebooks/EDA_SISU.ipynb#X24sZmlsZQ%3D%3D?line=5'>6</a>\u001b[0m         qtd_reprovados_opcao_1_aprovados_opcao_2 \u001b[39m+\u001b[39m\u001b[39m=\u001b[39m \u001b[39m1\u001b[39m\n",
      "File \u001b[0;32m~/Documents/ecommerce_inference/venv/lib/python3.10/site-packages/pandas/core/ops/common.py:76\u001b[0m, in \u001b[0;36m_unpack_zerodim_and_defer.<locals>.new_method\u001b[0;34m(self, other)\u001b[0m\n\u001b[1;32m     72\u001b[0m             \u001b[39mreturn\u001b[39;00m \u001b[39mNotImplemented\u001b[39m\n\u001b[1;32m     74\u001b[0m other \u001b[39m=\u001b[39m item_from_zerodim(other)\n\u001b[0;32m---> 76\u001b[0m \u001b[39mreturn\u001b[39;00m method(\u001b[39mself\u001b[39;49m, other)\n",
      "File \u001b[0;32m~/Documents/ecommerce_inference/venv/lib/python3.10/site-packages/pandas/core/arraylike.py:40\u001b[0m, in \u001b[0;36mOpsMixin.__eq__\u001b[0;34m(self, other)\u001b[0m\n\u001b[1;32m     38\u001b[0m \u001b[39m@unpack_zerodim_and_defer\u001b[39m(\u001b[39m\"\u001b[39m\u001b[39m__eq__\u001b[39m\u001b[39m\"\u001b[39m)\n\u001b[1;32m     39\u001b[0m \u001b[39mdef\u001b[39;00m \u001b[39m__eq__\u001b[39m(\u001b[39mself\u001b[39m, other):\n\u001b[0;32m---> 40\u001b[0m     \u001b[39mreturn\u001b[39;00m \u001b[39mself\u001b[39;49m\u001b[39m.\u001b[39;49m_cmp_method(other, operator\u001b[39m.\u001b[39;49meq)\n",
      "File \u001b[0;32m~/Documents/ecommerce_inference/venv/lib/python3.10/site-packages/pandas/core/series.py:5799\u001b[0m, in \u001b[0;36mSeries._cmp_method\u001b[0;34m(self, other, op)\u001b[0m\n\u001b[1;32m   5796\u001b[0m lvalues \u001b[39m=\u001b[39m \u001b[39mself\u001b[39m\u001b[39m.\u001b[39m_values\n\u001b[1;32m   5797\u001b[0m rvalues \u001b[39m=\u001b[39m extract_array(other, extract_numpy\u001b[39m=\u001b[39m\u001b[39mTrue\u001b[39;00m, extract_range\u001b[39m=\u001b[39m\u001b[39mTrue\u001b[39;00m)\n\u001b[0;32m-> 5799\u001b[0m res_values \u001b[39m=\u001b[39m ops\u001b[39m.\u001b[39;49mcomparison_op(lvalues, rvalues, op)\n\u001b[1;32m   5801\u001b[0m \u001b[39mreturn\u001b[39;00m \u001b[39mself\u001b[39m\u001b[39m.\u001b[39m_construct_result(res_values, name\u001b[39m=\u001b[39mres_name)\n",
      "File \u001b[0;32m~/Documents/ecommerce_inference/venv/lib/python3.10/site-packages/pandas/core/ops/array_ops.py:346\u001b[0m, in \u001b[0;36mcomparison_op\u001b[0;34m(left, right, op)\u001b[0m\n\u001b[1;32m    343\u001b[0m     \u001b[39mreturn\u001b[39;00m invalid_comparison(lvalues, rvalues, op)\n\u001b[1;32m    345\u001b[0m \u001b[39melif\u001b[39;00m lvalues\u001b[39m.\u001b[39mdtype \u001b[39m==\u001b[39m \u001b[39mobject\u001b[39m \u001b[39mor\u001b[39;00m \u001b[39misinstance\u001b[39m(rvalues, \u001b[39mstr\u001b[39m):\n\u001b[0;32m--> 346\u001b[0m     res_values \u001b[39m=\u001b[39m comp_method_OBJECT_ARRAY(op, lvalues, rvalues)\n\u001b[1;32m    348\u001b[0m \u001b[39melse\u001b[39;00m:\n\u001b[1;32m    349\u001b[0m     res_values \u001b[39m=\u001b[39m _na_arithmetic_op(lvalues, rvalues, op, is_cmp\u001b[39m=\u001b[39m\u001b[39mTrue\u001b[39;00m)\n",
      "File \u001b[0;32m~/Documents/ecommerce_inference/venv/lib/python3.10/site-packages/pandas/core/ops/array_ops.py:131\u001b[0m, in \u001b[0;36mcomp_method_OBJECT_ARRAY\u001b[0;34m(op, x, y)\u001b[0m\n\u001b[1;32m    129\u001b[0m     result \u001b[39m=\u001b[39m libops\u001b[39m.\u001b[39mvec_compare(x\u001b[39m.\u001b[39mravel(), y\u001b[39m.\u001b[39mravel(), op)\n\u001b[1;32m    130\u001b[0m \u001b[39melse\u001b[39;00m:\n\u001b[0;32m--> 131\u001b[0m     result \u001b[39m=\u001b[39m libops\u001b[39m.\u001b[39;49mscalar_compare(x\u001b[39m.\u001b[39;49mravel(), y, op)\n\u001b[1;32m    132\u001b[0m \u001b[39mreturn\u001b[39;00m result\u001b[39m.\u001b[39mreshape(x\u001b[39m.\u001b[39mshape)\n",
      "\u001b[0;31mKeyboardInterrupt\u001b[0m: "
     ]
    }
   ],
   "source": [
    "# Obtendo a quantidade de inscritos aprovados\n",
    "qtd_reprovados_opcao_1_aprovados_opcao_2 = 0\n",
    "for inscrito, cpf in zip(df_inscritos_aprovados.INSCRITO, df_inscritos_aprovados.CPF):\n",
    "    qtd = df_inscritos_reprovados[(df_inscritos_reprovados['CPF'] == cpf) & (df_inscritos_reprovados['INSCRITO'] == inscrito)].shape[0]\n",
    "    if qtd > 0:\n",
    "        qtd_reprovados_opcao_1_aprovados_opcao_2 += 1\n",
    "    else:\n",
    "        continue"
   ]
  },
  {
   "cell_type": "code",
   "execution_count": 9,
   "metadata": {},
   "outputs": [],
   "source": [
    "\n",
    "# Calculando a porcentagem de reprovados na primeira opção de curso\n",
    "prcnt_reprovados_1_opcao = round(((reprovados_1_opcao.shape[0]/dados.shape[0]) * 100), 2)\n",
    "\n",
    "# Calculando a porcentagem de aprovados na segunda opção de curso\n",
    "prcnt_aprovados_2_opcao = round(((aprovados_2_opcao.shape[0]/dados.shape[0]) * 100), 2)\n",
    "\n",
    "# Calculando a porcentagem de reprovados na primeira opção de curso que foram aprovados na segunda opção de curso\n",
    "prcnt_reprovados_1_opcao_aprovados_2_opcao = round(((qtd_reprovados_opcao_1_aprovados_opcao_2/dados.shape[0]) * 100), 2)"
   ]
  }
 ],
 "metadata": {
  "kernelspec": {
   "display_name": "venv",
   "language": "python",
   "name": "python3"
  },
  "language_info": {
   "codemirror_mode": {
    "name": "ipython",
    "version": 3
   },
   "file_extension": ".py",
   "mimetype": "text/x-python",
   "name": "python",
   "nbconvert_exporter": "python",
   "pygments_lexer": "ipython3",
   "version": "3.10.12"
  }
 },
 "nbformat": 4,
 "nbformat_minor": 2
}
