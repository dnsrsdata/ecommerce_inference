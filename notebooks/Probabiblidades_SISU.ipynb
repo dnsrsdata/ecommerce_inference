{
 "cells": [
  {
   "cell_type": "code",
   "execution_count": 1,
   "metadata": {},
   "outputs": [],
   "source": [
    "from pyspark.sql import SparkSession"
   ]
  },
  {
   "cell_type": "code",
   "execution_count": 2,
   "metadata": {},
   "outputs": [
    {
     "name": "stderr",
     "output_type": "stream",
     "text": [
      "23/11/28 08:35:25 WARN Utils: Your hostname, daniel-VJFE43F11X-XXXXXX resolves to a loopback address: 127.0.1.1; using 192.168.0.157 instead (on interface wlo1)\n",
      "23/11/28 08:35:25 WARN Utils: Set SPARK_LOCAL_IP if you need to bind to another address\n",
      "Setting default log level to \"WARN\".\n",
      "To adjust logging level use sc.setLogLevel(newLevel). For SparkR, use setLogLevel(newLevel).\n",
      "23/11/28 08:35:26 WARN NativeCodeLoader: Unable to load native-hadoop library for your platform... using builtin-java classes where applicable\n"
     ]
    }
   ],
   "source": [
    "# Criando uma sessão spark\n",
    "spark = SparkSession.builder.appName(\"prob_SISU\").getOrCreate()"
   ]
  },
  {
   "cell_type": "code",
   "execution_count": 3,
   "metadata": {},
   "outputs": [
    {
     "name": "stderr",
     "output_type": "stream",
     "text": [
      "                                                                                \r"
     ]
    }
   ],
   "source": [
    "# Lendo o arquivo csv\n",
    "dados = spark.read.csv(\"../data/raw/chamada_regular_sisu_2022_1.csv\", header=True, sep=\"|\", encoding=\"latin1\")"
   ]
  },
  {
   "cell_type": "code",
   "execution_count": 4,
   "metadata": {},
   "outputs": [
    {
     "name": "stderr",
     "output_type": "stream",
     "text": [
      "23/11/28 08:35:41 WARN SparkStringUtils: Truncated the string representation of a plan since it was too large. This behavior can be adjusted by setting 'spark.sql.debug.maxToStringFields'.\n"
     ]
    },
    {
     "name": "stdout",
     "output_type": "stream",
     "text": [
      "+----+------+-----+---------------+----------+--------------------+---------+------+-------------+--------------------+---------+----------------+------------+--------------------+-----------+-------+----------------+-------+---------------------+------------------+---------------------+----------------+------+-------+-------+------+------+-------------+--------------+--------------+-------------+-------------+------------+-------------+--------------+--------------------+----+---------------+------------+-------------------+-----+------+-------+-------+------+------+---------------+----------------+----------------+---------------+---------------+--------------+----------+-------------+--------+--------------+\n",
      "| ANO|EDICAO|ETAPA|       DS_ETAPA|CODIGO_IES|            NOME_IES|SIGLA_IES|UF_IES|CODIGO_CAMPUS|         NOME_CAMPUS|UF_CAMPUS|MUNICIPIO_CAMPUS|CODIGO_CURSO|          NOME_CURSO|       GRAU|  TURNO|DS_PERIODICIDADE|TP_COTA|TIPO_MOD_CONCORRENCIA|  MOD_CONCORRENCIA|QT_VAGAS_CONCORRENCIA|PERCENTUAL_BONUS|PESO_L|PESO_CH|PESO_CN|PESO_M|PESO_R|NOTA_MINIMA_L|NOTA_MINIMA_CH|NOTA_MINIMA_CN|NOTA_MINIMA_M|NOTA_MINIMA_R|MEDIA_MINIMA|          CPF|INSCRICAO_ENEM|            INSCRITO|SEXO|DATA_NASCIMENTO|UF_CANDIDATO|MUNICIPIO_CANDIDATO|OPCAO|NOTA_L|NOTA_CH|NOTA_CN|NOTA_M|NOTA_R|NOTA_L_COM_PESO|NOTA_CH_COM_PESO|NOTA_CN_COM_PESO|NOTA_M_COM_PESO|NOTA_R_COM_PESO|NOTA_CANDIDATO|NOTA_CORTE|CLASSIFICACAO|APROVADO|     MATRICULA|\n",
      "+----+------+-----+---------------+----------+--------------------+---------+------+-------------+--------------------+---------+----------------+------------+--------------------+-----------+-------+----------------+-------+---------------------+------------------+---------------------+----------------+------+-------+-------+------+------+-------------+--------------+--------------+-------------+-------------+------------+-------------+--------------+--------------------+----+---------------+------------+-------------------+-----+------+-------+-------+------+------+---------------+----------------+----------------+---------------+---------------+--------------+----------+-------------+--------+--------------+\n",
      "|2022|     1|    4|CHAMADA REGULAR|       593|CENTRO FEDERAL DE...| CEFET/RJ|    RJ|         1663|CEFET-RJ - MARIA ...|       RJ|  Rio de Janeiro|     1441998|SISTEMAS DE INFOR...|Bacharelado|Noturno|       Semestral|   NULL|                    A|Ampla concorrência|                   15|            NULL|     1|      1|      2|     4|     3|        453,8|         444,7|         453,3|        438,4|          300|      418,04|XXX.015687-XX|  211XXXXXX424|ABRAAO CARDOSO DO...|   M|     20/08/1979|          RJ|       Belford Roxo|    2| 564,8|  600,5|  616,9| 711,1|   580|          564,8|           600,5|          1233,8|         2844,4|           1740|        634,86|    718,99|           61|       N|      PENDENTE|\n",
      "|2022|     1|    4|CHAMADA REGULAR|       593|CENTRO FEDERAL DE...| CEFET/RJ|    RJ|         1663|CEFET-RJ - MARIA ...|       RJ|  Rio de Janeiro|     1441998|SISTEMAS DE INFOR...|Bacharelado|Noturno|       Semestral|   NULL|                    A|Ampla concorrência|                   15|            NULL|     1|      1|      2|     4|     3|        453,8|         444,7|         453,3|        438,4|          300|      418,04|XXX.781997-XX|  211XXXXXX857|    ADHAM GREG DIEHL|   M|     01/04/1986|          RJ|     Rio de Janeiro|    1|   650|  669,9|  618,3| 698,7|   640|            650|           669,9|          1236,6|         2794,8|           1920|        661,03|    718,99|           45|       N|      PENDENTE|\n",
      "|2022|     1|    4|CHAMADA REGULAR|       593|CENTRO FEDERAL DE...| CEFET/RJ|    RJ|         1663|CEFET-RJ - MARIA ...|       RJ|  Rio de Janeiro|     1441998|SISTEMAS DE INFOR...|Bacharelado|Noturno|       Semestral|   NULL|                    A|Ampla concorrência|                   15|            NULL|     1|      1|      2|     4|     3|        453,8|         444,7|         453,3|        438,4|          300|      418,04|XXX.040767-XX|  211XXXXXX696|ALEX SANDRO DA CO...|   M|     31/01/2004|          RJ|    Duque de Caxias|    2| 618,7|  602,2|  666,3|   679|   880|          618,7|           602,2|          1332,6|           2716|           2640|        719,05|    718,99|           14|       S|NÃO COMPARECEU|\n",
      "|2022|     1|    4|CHAMADA REGULAR|       593|CENTRO FEDERAL DE...| CEFET/RJ|    RJ|         1663|CEFET-RJ - MARIA ...|       RJ|  Rio de Janeiro|     1441998|SISTEMAS DE INFOR...|Bacharelado|Noturno|       Semestral|   NULL|                    A|Ampla concorrência|                   15|            NULL|     1|      1|      2|     4|     3|        453,8|         444,7|         453,3|        438,4|          300|      418,04|XXX.630087-XX|  211XXXXXX981|  ANDRE LOPES BIONDE|   M|     06/05/2000|          RJ|     Rio de Janeiro|    2| 543,6|  514,6|  455,5| 662,9|   520|          543,6|           514,6|             911|         2651,6|           1560|        561,89|    718,99|           90|       N|      PENDENTE|\n",
      "|2022|     1|    4|CHAMADA REGULAR|       593|CENTRO FEDERAL DE...| CEFET/RJ|    RJ|         1663|CEFET-RJ - MARIA ...|       RJ|  Rio de Janeiro|     1441998|SISTEMAS DE INFOR...|Bacharelado|Noturno|       Semestral|   NULL|                    A|Ampla concorrência|                   15|            NULL|     1|      1|      2|     4|     3|        453,8|         444,7|         453,3|        438,4|          300|      418,04|XXX.802497-XX|  211XXXXXX762|ANDRE LUIZ DE SOU...|   M|     20/09/1997|          RJ|          Nilópolis|    2| 637,8|  741,4|  595,4| 671,7|   640|          637,8|           741,4|          1190,8|         2686,8|           1920|        652,44|    718,99|           51|       N|      PENDENTE|\n",
      "+----+------+-----+---------------+----------+--------------------+---------+------+-------------+--------------------+---------+----------------+------------+--------------------+-----------+-------+----------------+-------+---------------------+------------------+---------------------+----------------+------+-------+-------+------+------+-------------+--------------+--------------+-------------+-------------+------------+-------------+--------------+--------------------+----+---------------+------------+-------------------+-----+------+-------+-------+------+------+---------------+----------------+----------------+---------------+---------------+--------------+----------+-------------+--------+--------------+\n",
      "only showing top 5 rows\n",
      "\n"
     ]
    }
   ],
   "source": [
    "# Observando o estado inicial dos dados\n",
    "dados.show(5)"
   ]
  },
  {
   "cell_type": "code",
   "execution_count": 5,
   "metadata": {},
   "outputs": [],
   "source": [
    "# Permitindo usar SQL nos dados\n",
    "dados.createOrReplaceTempView(\"dados\")"
   ]
  },
  {
   "cell_type": "markdown",
   "metadata": {},
   "source": [
    "A partir dos dados iniciais do SISU, vamos fazer uma análise exploratória dos dados para responder as seguintes perguntas: \n",
    "- Qual a porcentagem de aprovados?\n",
    "- Qual a maior e menor nota de aprovação?\n",
    "- Dos aprovados, quantos porcento foram aceitos na primeira opção? E na segunda?\n",
    "- Qual a probabilidade de ser aprovado na segunda opção dado que foi reprovado na primeira?\n",
    "- Qual a porcentagem de cotistas aplicantes?\n",
    "- Destes, qual a porcentagem de aprovados?\n",
    "- Qual a porcentagem de cotistas aprovados na primeira opção? E na segunda?\n",
    "- Qual a probabilidade de ser aprovado na primeira opção sendo um cotista?\n",
    "- Há diferença na probabilidade de ser aprovado em um curso dado as modalidades de concorrência (cotas, ampla concorrência, etc)?\n",
    "- Há alguma diferença na probabilidade de ser aprovado em um curso dado o seu turno (Vespertino, Matutino, Noturno, Integral, EAD)?\n",
    "- Há alguma diferença na probabilidade de ser aprovado em um curso dado o seu grau? (Área Básica de ingresso, Bacharelado, Licenciatura, Tecnológico)"
   ]
  },
  {
   "cell_type": "markdown",
   "metadata": {},
   "source": [
    "# Qual a taxa de aprovação do ENEM?\n",
    "Obs: A taxa é considerando primeira e segunda escolha."
   ]
  },
  {
   "cell_type": "code",
   "execution_count": 6,
   "metadata": {},
   "outputs": [
    {
     "name": "stderr",
     "output_type": "stream",
     "text": [
      "                                                                                \r"
     ]
    },
    {
     "name": "stderr",
     "output_type": "stream",
     "text": [
      "[Stage 5:======================>                                    (3 + 5) / 8]\r"
     ]
    },
    {
     "name": "stdout",
     "output_type": "stream",
     "text": [
      "Taxa de aprovados: 10.18%\n"
     ]
    },
    {
     "name": "stderr",
     "output_type": "stream",
     "text": [
      "                                                                                \r"
     ]
    }
   ],
   "source": [
    "# Calculando a taxa de aprovados\n",
    "qtd_aprovados = spark.sql(\"SELECT ROUND(COUNT(*), 2) \\\n",
    "                           FROM dados \\\n",
    "                           WHERE APROVADO = 'S'\").collect()[0][0]\n",
    "\n",
    "# Calculando o total de registros\n",
    "total_de_registros = spark.sql(\"SELECT COUNT(*) FROM dados\").collect()[0][0]\n",
    "\n",
    "print(f\"Taxa de aprovados: {round(qtd_aprovados / total_de_registros * 100, 2)}%\")"
   ]
  },
  {
   "cell_type": "markdown",
   "metadata": {},
   "source": [
    "# Qual a maior e a menor nota de aprovação?"
   ]
  },
  {
   "cell_type": "code",
   "execution_count": 7,
   "metadata": {},
   "outputs": [
    {
     "name": "stderr",
     "output_type": "stream",
     "text": [
      "[Stage 8:>                                                          (0 + 8) / 8]\r"
     ]
    },
    {
     "name": "stderr",
     "output_type": "stream",
     "text": [
      "[Stage 8:===================================================>       (7 + 1) / 8]\r"
     ]
    },
    {
     "name": "stdout",
     "output_type": "stream",
     "text": [
      "Menor nota de candidatos aprovados: 208,79\n"
     ]
    },
    {
     "name": "stderr",
     "output_type": "stream",
     "text": [
      "                                                                                \r"
     ]
    }
   ],
   "source": [
    "# Buscando a menor nota de candidatos aprovados\n",
    "menor_nota = spark.sql(\"SELECT MIN(NOTA_CANDIDATO) \\\n",
    "                        FROM dados \\\n",
    "                        WHERE APROVADO = 'S'\").collect()[0][0]\n",
    "\n",
    "print(f\"Menor nota de candidatos aprovados: {menor_nota}\")"
   ]
  },
  {
   "cell_type": "code",
   "execution_count": 8,
   "metadata": {},
   "outputs": [
    {
     "name": "stderr",
     "output_type": "stream",
     "text": [
      "[Stage 11:>                                                         (0 + 8) / 8]\r"
     ]
    },
    {
     "name": "stderr",
     "output_type": "stream",
     "text": [
      "[Stage 11:====================================>                     (5 + 3) / 8]\r"
     ]
    },
    {
     "name": "stdout",
     "output_type": "stream",
     "text": [
      "Maior nota de candidatos aprovados: 953,14\n"
     ]
    },
    {
     "name": "stderr",
     "output_type": "stream",
     "text": [
      "                                                                                \r"
     ]
    }
   ],
   "source": [
    "# Buscando a maior nota de candidatos aprovados\n",
    "maior_nota = spark.sql(\"SELECT MAX(NOTA_CANDIDATO) \\\n",
    "                        FROM dados \\\n",
    "                        WHERE APROVADO = 'S'\").collect()[0][0]\n",
    "\n",
    "print(f\"Maior nota de candidatos aprovados: {maior_nota}\")"
   ]
  },
  {
   "cell_type": "code",
   "execution_count": 9,
   "metadata": {},
   "outputs": [
    {
     "name": "stderr",
     "output_type": "stream",
     "text": [
      "[Stage 14:>                                                         (0 + 8) / 8]\r"
     ]
    },
    {
     "name": "stderr",
     "output_type": "stream",
     "text": [
      "[Stage 14:====================================>                     (5 + 3) / 8]\r"
     ]
    },
    {
     "name": "stdout",
     "output_type": "stream",
     "text": [
      "75% das notas dos aprovados está abaixo de 686.0\n"
     ]
    },
    {
     "name": "stderr",
     "output_type": "stream",
     "text": [
      "                                                                                \r"
     ]
    }
   ],
   "source": [
    "# Verificando o terceiro quartil das notas de candidatos aprovados\n",
    "terceiro_quartil = spark.sql(\"SELECT PERCENTILE(NOTA_CANDIDATO, 0.75) \\\n",
    "                              FROM dados \\\n",
    "                              WHERE APROVADO = 'S'\").collect()[0][0]\n",
    "\n",
    "print(f\"75% das notas dos aprovados está abaixo de {terceiro_quartil}\")"
   ]
  },
  {
   "cell_type": "code",
   "execution_count": 10,
   "metadata": {},
   "outputs": [
    {
     "name": "stderr",
     "output_type": "stream",
     "text": [
      "[Stage 17:>                                                         (0 + 8) / 8]\r"
     ]
    },
    {
     "name": "stderr",
     "output_type": "stream",
     "text": [
      "[Stage 17:====================================>                     (5 + 3) / 8]\r"
     ]
    },
    {
     "name": "stdout",
     "output_type": "stream",
     "text": [
      "25% das notas dos aprovados está abaixo de 577.0\n"
     ]
    },
    {
     "name": "stderr",
     "output_type": "stream",
     "text": [
      "                                                                                \r"
     ]
    }
   ],
   "source": [
    "# Verificando o primeiro quartil das notas dos candidatos aprovados\n",
    "primeiro_quartil = spark.sql(\"SELECT PERCENTILE(NOTA_CANDIDATO, 0.25) \\\n",
    "                              FROM dados \\\n",
    "                              WHERE APROVADO = 'S'\").collect()[0][0]\n",
    "\n",
    "print(f\"25% das notas dos aprovados está abaixo de {primeiro_quartil}\")\n"
   ]
  },
  {
   "cell_type": "markdown",
   "metadata": {},
   "source": [
    "# Dos aprovados, quantos porcento foram aceitos na primeira opção? E na segunda?"
   ]
  },
  {
   "cell_type": "code",
   "execution_count": 11,
   "metadata": {},
   "outputs": [
    {
     "name": "stderr",
     "output_type": "stream",
     "text": [
      "[Stage 20:>                                                         (0 + 8) / 8]\r"
     ]
    },
    {
     "name": "stderr",
     "output_type": "stream",
     "text": [
      "[Stage 20:==================================================>       (7 + 1) / 8]\r"
     ]
    },
    {
     "name": "stdout",
     "output_type": "stream",
     "text": [
      "Do total de aprovados, 63.85% foram aceitos na primeira opção\n"
     ]
    },
    {
     "name": "stderr",
     "output_type": "stream",
     "text": [
      "                                                                                \r"
     ]
    }
   ],
   "source": [
    "# Buscando o número de aprovados na primeira opção\n",
    "aprovados_primeira_opcao = spark.sql(\"SELECT COUNT(*) \\\n",
    "                                      FROM dados \\\n",
    "                                      WHERE APROVADO = 'S' \\\n",
    "                                      AND OPCAO = 1\").collect()[0][0]\n",
    "\n",
    "print(f\"Do total de aprovados, {round(aprovados_primeira_opcao / qtd_aprovados * 100, 2)}% foram aceitos na primeira opção\")"
   ]
  },
  {
   "cell_type": "code",
   "execution_count": 12,
   "metadata": {},
   "outputs": [
    {
     "name": "stderr",
     "output_type": "stream",
     "text": [
      "[Stage 23:>                                                         (0 + 8) / 8]\r"
     ]
    },
    {
     "name": "stderr",
     "output_type": "stream",
     "text": [
      "[Stage 23:==================================================>       (7 + 1) / 8]\r"
     ]
    },
    {
     "name": "stdout",
     "output_type": "stream",
     "text": [
      "Do total de aprovados, 36.15% foram aceitos na segunda opção\n"
     ]
    },
    {
     "name": "stderr",
     "output_type": "stream",
     "text": [
      "                                                                                \r"
     ]
    }
   ],
   "source": [
    "# Calculando os aprovados somente na segunda opção\n",
    "aprovados_segunda_opcao = spark.sql(\"SELECT COUNT(*) \\\n",
    "                                     FROM dados \\\n",
    "                                     WHERE APROVADO = 'S' \\\n",
    "                                     AND OPCAO = 2\").collect()[0][0]\n",
    "\n",
    "print(f\"Do total de aprovados, {round(aprovados_segunda_opcao / qtd_aprovados * 100, 2)}% foram aceitos na segunda opção\")"
   ]
  },
  {
   "cell_type": "markdown",
   "metadata": {},
   "source": [
    "# Qual a probabilidade de ser aprovado na segunda opção dado que foi reprovado na primeira?"
   ]
  },
  {
   "cell_type": "code",
   "execution_count": 13,
   "metadata": {},
   "outputs": [
    {
     "name": "stderr",
     "output_type": "stream",
     "text": [
      "[Stage 26:>                 (0 + 8) / 8][Stage 27:>                 (0 + 0) / 8]\r"
     ]
    },
    {
     "name": "stderr",
     "output_type": "stream",
     "text": [
      "                                                                                \r"
     ]
    }
   ],
   "source": [
    "# Selecionando os reprovados na primeira opção\n",
    "reprovados_primeira_opcao = spark.sql(\"SELECT CPF, INSCRITO \\\n",
    "                                       FROM dados \\\n",
    "                                       WHERE APROVADO = 'N' \\\n",
    "                                       AND OPCAO = 1\")\n",
    "\n",
    "# Selecionando os aprovados\n",
    "aprovados = spark.sql(\"SELECT CPF, INSCRITO \\\n",
    "                                     FROM dados \\\n",
    "                                     WHERE APROVADO = 'S'\")\n",
    "\n",
    "# Tornando possivel usar SQL nos dados\n",
    "reprovados_primeira_opcao.createOrReplaceTempView(\"reprovados_primeira_opcao\")\n",
    "aprovados.createOrReplaceTempView(\"aprovados\")\n",
    "\n",
    "# Buscando os reprovados na primeira opção que foram aprovados na segunda opção\n",
    "qtd_reprovados_1_aprovados = spark.sql(\"SELECT COUNT(*) \\\n",
    "                                          FROM reprovados_primeira_opcao \\\n",
    "                                          INNER JOIN aprovados \\\n",
    "                                          ON reprovados_primeira_opcao.CPF = aprovados.CPF \\\n",
    "                                          AND reprovados_primeira_opcao.INSCRITO = aprovados.INSCRITO\").collect()[0][0]\n",
    "\n",
    "# Contando os aprovados na primeira opção\n",
    "qtd_reprovados_primeira_opcao = reprovados_primeira_opcao.count()\n",
    "\n",
    "# Contando os aprovados na segunda opção\n",
    "qtd_aprovados = aprovados.count()"
   ]
  },
  {
   "cell_type": "code",
   "execution_count": 14,
   "metadata": {},
   "outputs": [
    {
     "name": "stdout",
     "output_type": "stream",
     "text": [
      "A probabilidade de ser aprovado na segunda opção dado que foi reprovado na primeira é de 8.11%\n"
     ]
    }
   ],
   "source": [
    "# Calculando a probabilidade de ser reprovado na primeira opcao\n",
    "probabilidade_reprovado_1_opcao = qtd_reprovados_primeira_opcao / total_de_registros\n",
    "\n",
    "# Calculando a probabilidade de ser reprovado na primeira opcao e aprovado na segunda\n",
    "probabilidade_reprovado_1_aprovado_2 = qtd_reprovados_1_aprovados / total_de_registros\n",
    "\n",
    "# Calculando a probabilidade de ser aprovado na segunda opcao dado que foi reprovado na primeira\n",
    "probabilidade_aprovado_2_reprovado_1 = probabilidade_reprovado_1_aprovado_2 / probabilidade_reprovado_1_opcao\n",
    "\n",
    "print(f\"A probabilidade de ser aprovado na segunda opção dado que foi reprovado na primeira é de {round(probabilidade_aprovado_2_reprovado_1 * 100, 2)}%\")"
   ]
  },
  {
   "cell_type": "markdown",
   "metadata": {},
   "source": [
    "# Qual a porcentagem de cotistas aplicantes?"
   ]
  },
  {
   "cell_type": "code",
   "execution_count": 15,
   "metadata": {},
   "outputs": [
    {
     "name": "stderr",
     "output_type": "stream",
     "text": [
      "                                                                                \r"
     ]
    }
   ],
   "source": [
    "# Buscando a quantidade de candidatos que usaram algum tipo de cota\n",
    "qtd_cotistas = spark.sql(\"SELECT COUNT(*) \\\n",
    "                          FROM dados \\\n",
    "                          WHERE TP_COTA IS NOT NULL\").collect()[0][0]\n"
   ]
  },
  {
   "cell_type": "code",
   "execution_count": 16,
   "metadata": {},
   "outputs": [
    {
     "name": "stdout",
     "output_type": "stream",
     "text": [
      "43.1% dos candidatos usaram algum tipo de cota\n"
     ]
    }
   ],
   "source": [
    "# Calculando a porcentagem de candidatos que usaram algum tipo de cota\n",
    "porcentagem_cotistas = round(qtd_cotistas / total_de_registros * 100, 2)\n",
    "\n",
    "print(f\"{porcentagem_cotistas}% dos candidatos usaram algum tipo de cota\")"
   ]
  },
  {
   "cell_type": "markdown",
   "metadata": {},
   "source": [
    "# Qual a porcentagem de cotistas aprovados?"
   ]
  },
  {
   "cell_type": "code",
   "execution_count": 17,
   "metadata": {},
   "outputs": [
    {
     "name": "stderr",
     "output_type": "stream",
     "text": [
      "                                                                                \r"
     ]
    }
   ],
   "source": [
    "# Buscando a quantidade de candidatos que usaram algum tipo de cota e foram aprovados\n",
    "qtd_cotistas_aprovados = spark.sql(\"SELECT COUNT(*) \\\n",
    "                                    FROM dados \\\n",
    "                                    WHERE TP_COTA IS NOT NULL AND APROVADO = 'S'\").collect()[0][0]"
   ]
  },
  {
   "cell_type": "code",
   "execution_count": 18,
   "metadata": {},
   "outputs": [
    {
     "name": "stdout",
     "output_type": "stream",
     "text": [
      "9.69% dos candidatos que usaram algum tipo de cota foram aprovados\n"
     ]
    }
   ],
   "source": [
    "# Calculando a porcentagem de candidatos que usaram algum tipo de cota e foram aprovados\n",
    "porcentagem_cotistas_aprovados = round(qtd_cotistas_aprovados / qtd_cotistas * 100, 2)\n",
    "\n",
    "print(f\"{porcentagem_cotistas_aprovados}% dos candidatos que usaram algum tipo de cota foram aprovados\")"
   ]
  },
  {
   "cell_type": "markdown",
   "metadata": {},
   "source": [
    "# Qual a porcentagem de cotistas aprovados na primeira opção? E na segunda?"
   ]
  },
  {
   "cell_type": "code",
   "execution_count": 20,
   "metadata": {},
   "outputs": [
    {
     "name": "stderr",
     "output_type": "stream",
     "text": [
      "[Stage 50:====================================>                     (5 + 3) / 8]\r"
     ]
    },
    {
     "name": "stdout",
     "output_type": "stream",
     "text": [
      "64.08% dos candidatos cotistas foram aprovados na primeira opção\n"
     ]
    },
    {
     "name": "stderr",
     "output_type": "stream",
     "text": [
      "                                                                                \r"
     ]
    }
   ],
   "source": [
    "# Buscando a quantidade de candidatos que usaram algum tipo de cota e foram aprovados na primeira opção\n",
    "qtd_cotistas_aprovados_primeira_opcao = spark.sql(\"SELECT COUNT(*) \\\n",
    "                                                    FROM dados \\\n",
    "                                                    WHERE TP_COTA IS NOT NULL \\\n",
    "                                                    AND APROVADO = 'S' \\\n",
    "                                                    AND OPCAO = 1\").collect()[0][0]\n",
    "\n",
    "# Calculando a porcentagem de candidatos que usaram algum tipo de cota e foram aprovados na primeira opção\n",
    "porcentagem_cotistas_aprovados_primeira_opcao = round(qtd_cotistas_aprovados_primeira_opcao / qtd_cotistas_aprovados * 100, 2)\n",
    "\n",
    "print(f\"{porcentagem_cotistas_aprovados_primeira_opcao}% dos candidatos cotistas foram aprovados na primeira opção\")"
   ]
  },
  {
   "cell_type": "code",
   "execution_count": 21,
   "metadata": {},
   "outputs": [
    {
     "name": "stderr",
     "output_type": "stream",
     "text": [
      "[Stage 53:====================================>                     (5 + 3) / 8]\r"
     ]
    },
    {
     "name": "stdout",
     "output_type": "stream",
     "text": [
      "35.92% dos candidatos cotistas foram aprovados na segunda opção\n"
     ]
    },
    {
     "name": "stderr",
     "output_type": "stream",
     "text": [
      "                                                                                \r"
     ]
    }
   ],
   "source": [
    "\n",
    "# Buscando a quantidade de candidatos que usaram algum tipo de cota e foram aprovados na segunda opção\n",
    "qtd_cotistas_aprovados_segunda_opcao = spark.sql(\"SELECT COUNT(*) \\\n",
    "                                                   FROM dados \\\n",
    "                                                   WHERE TP_COTA IS NOT NULL \\\n",
    "                                                   AND APROVADO = 'S' \\\n",
    "                                                   AND OPCAO = 2\").collect()[0][0]\n",
    "\n",
    "# Calculando a porcentagem de candidatos que usaram algum tipo de cota e foram aprovados na segunda opção\n",
    "porcentagem_cotistas_aprovados_segunda_opcao = round(qtd_cotistas_aprovados_segunda_opcao / qtd_cotistas_aprovados * 100, 2)\n",
    "\n",
    "print(f\"{porcentagem_cotistas_aprovados_segunda_opcao}% dos candidatos cotistas foram aprovados na segunda opção\")"
   ]
  },
  {
   "cell_type": "markdown",
   "metadata": {},
   "source": [
    "# Qual a probabilidade de ser aprovado na primeira opção sendo um cotista?"
   ]
  },
  {
   "cell_type": "code",
   "execution_count": 26,
   "metadata": {},
   "outputs": [
    {
     "name": "stderr",
     "output_type": "stream",
     "text": [
      "                                                                                \r"
     ]
    }
   ],
   "source": [
    "# Buscando os dados dos cotistas\n",
    "cotistas = spark.sql(\"SELECT CPF, INSCRITO \\\n",
    "                      FROM dados \\\n",
    "                      WHERE TP_COTA IS NOT NULL\")\n",
    "\n",
    "# Buscando os aprovados na primeira opção\n",
    "aprovados_primeira_opcao = spark.sql(\"SELECT CPF, INSCRITO \\\n",
    "                                      FROM dados \\\n",
    "                                      WHERE APROVADO = 'S' \\\n",
    "                                      AND OPCAO = 1\")\n",
    "\n",
    "# Tornando possivel usar SQL nos dados\n",
    "cotistas.createOrReplaceTempView(\"cotistas\")\n",
    "aprovados_primeira_opcao.createOrReplaceTempView(\"aprovados_primeira_opcao\")\n",
    "\n",
    "# Buscando os cotistas que foram aprovados na primeira opção\n",
    "qtd_cotistas_aprovados_primeira_opcao = spark.sql(\"SELECT COUNT(*) \\\n",
    "                                                    FROM cotistas \\\n",
    "                                                    INNER JOIN aprovados_primeira_opcao \\\n",
    "                                                    ON cotistas.CPF = aprovados_primeira_opcao.CPF \\\n",
    "                                                    AND cotistas.INSCRITO = aprovados_primeira_opcao.INSCRITO\").collect()[0][0]\n",
    "\n",
    "# Calculando a quantidade de cotistas\n",
    "qtd_cotistas = cotistas.count()\n",
    "\n",
    "# Calculando a quantidade de aprovações na primeira opção\n",
    "qtd_aprovados_primeira_opcao = aprovados_primeira_opcao.count()"
   ]
  },
  {
   "cell_type": "code",
   "execution_count": 35,
   "metadata": {},
   "outputs": [
    {
     "name": "stdout",
     "output_type": "stream",
     "text": [
      "A probabilidade de ser aprovado na primeira opção dado que é cotista é de 11.82%\n"
     ]
    }
   ],
   "source": [
    "# Calculando a probabilidade de ser cotistas\n",
    "probabilidade_cotista = qtd_cotistas / total_de_registros\n",
    "\n",
    "# Calculando a probabilidade de ser aprovado na primeira opção e ser cotista\n",
    "probabilidade_aprovado_primeira_opcao_cotista = qtd_cotistas_aprovados_primeira_opcao / total_de_registros\n",
    "\n",
    "# Calculando a probabilidade de ser aprova na primeira opção dado que é cotista\n",
    "probabilidade_aprovado_primeira_opcao_dado_cotista = probabilidade_aprovado_primeira_opcao_cotista / probabilidade_cotista\n",
    "\n",
    "print(f\"A probabilidade de ser aprovado na primeira opção dado que é cotista é de {round(probabilidade_aprovado_primeira_opcao_dado_cotista * 100, 2)}%\")\n",
    "\n"
   ]
  },
  {
   "cell_type": "markdown",
   "metadata": {},
   "source": [
    "# Há diferença na probabilidade de ser aprovado em um curso dado as modalidades de concorrência (cotas, ampla concorrência, etc)?"
   ]
  },
  {
   "cell_type": "code",
   "execution_count": 37,
   "metadata": {},
   "outputs": [
    {
     "name": "stderr",
     "output_type": "stream",
     "text": [
      "                                                                                \r"
     ]
    }
   ],
   "source": [
    "# Buscando os candidatos que nãi usaram nenhum tipo de cota\n",
    "ampla_concorrencia = spark.sql(\"SELECT CPF, INSCRITO \\\n",
    "                                FROM dados \\\n",
    "                                WHERE TP_COTA IS NULL\")\n",
    "\n",
    "# Tornando possivel usar SQL nos dados\n",
    "ampla_concorrencia.createOrReplaceTempView(\"ampla_concorrencia\")\n",
    "\n",
    "# Buscando os candidatos que não usaram nenhum tipo de cota e foram aprovados na primeira opção\n",
    "qtd_ampla_concorrencia_aprovados_primeira_opcao = spark.sql(\"SELECT COUNT(*) \\\n",
    "                                                             FROM ampla_concorrencia \\\n",
    "                                                             INNER JOIN aprovados_primeira_opcao \\\n",
    "                                                             ON ampla_concorrencia.CPF = aprovados_primeira_opcao.CPF \\\n",
    "                                                             AND ampla_concorrencia.INSCRITO = aprovados_primeira_opcao.INSCRITO\").collect()[0][0]\n",
    "\n",
    "# Calculando a quantidade de candidatos que não usaram nenhum tipo de cota\n",
    "qtd_ampla_concorrencia = ampla_concorrencia.count()"
   ]
  },
  {
   "cell_type": "code",
   "execution_count": 38,
   "metadata": {},
   "outputs": [
    {
     "name": "stdout",
     "output_type": "stream",
     "text": [
      "A probabilidade de ser aprovado na primeira opção dado que não é cotista é de 13.0%\n"
     ]
    }
   ],
   "source": [
    "# Calculando a probabilidade de ser aprovado na primeira opção e não ser cotista\n",
    "probabilidade_aprovado_primeira_opcao_ampla_concorrencia = qtd_ampla_concorrencia_aprovados_primeira_opcao / total_de_registros\n",
    "\n",
    "# Calculando a probabilidade de estar na ampla concorrência\n",
    "probabilidade_ampla_concorrencia = qtd_ampla_concorrencia / total_de_registros\n",
    "\n",
    "# Calculando a probabilidade de ser aprovado na primeira opção dado que não é cotista\n",
    "probabilidade_aprovado_primeira_opcao_dado_ampla_concorrencia = probabilidade_aprovado_primeira_opcao_ampla_concorrencia / probabilidade_ampla_concorrencia\n",
    "\n",
    "print(f\"A probabilidade de ser aprovado na primeira opção dado que não é cotista é de {round(probabilidade_aprovado_primeira_opcao_dado_ampla_concorrencia * 100, 2)}%\")"
   ]
  },
  {
   "cell_type": "code",
   "execution_count": 39,
   "metadata": {},
   "outputs": [
    {
     "name": "stdout",
     "output_type": "stream",
     "text": [
      "A probabilidade de ser aprovado na primeira opção dado que é cotista é de 11.82%\n"
     ]
    }
   ],
   "source": [
    "print(f\"A probabilidade de ser aprovado na primeira opção dado que é cotista é de {round(probabilidade_aprovado_primeira_opcao_dado_cotista * 100, 2)}%\")"
   ]
  },
  {
   "cell_type": "markdown",
   "metadata": {},
   "source": [
    "# Há alguma diferença na probabilidade de ser aprovado em um curso dado o seu turno? (Vespertino, Matutino, Noturno, Integral, EAD)"
   ]
  },
  {
   "cell_type": "code",
   "execution_count": 47,
   "metadata": {},
   "outputs": [
    {
     "name": "stderr",
     "output_type": "stream",
     "text": [
      "                                                                                \r"
     ]
    }
   ],
   "source": [
    "# Buscando os candidatos que aplicaram para cursos matutinos\n",
    "matutino = spark.sql(\"SELECT CPF, INSCRITO \\\n",
    "                      FROM dados \\\n",
    "                      WHERE TURNO = 'Matutino'\")\n",
    "\n",
    "# Buscando os candidatos que aplicaram para cursos vespertinos\n",
    "vespertino = spark.sql(\"SELECT CPF, INSCRITO \\\n",
    "                        FROM dados \\\n",
    "                        WHERE TURNO = 'Vespertino'\")\n",
    "\n",
    "# Buscando os candidatos que aplicaram para cursos noturnos\n",
    "noturno = spark.sql(\"SELECT CPF, INSCRITO \\\n",
    "                     FROM dados \\\n",
    "                     WHERE TURNO = 'Noturno'\")\n",
    "\n",
    "# Buscando os candidatos que aplicaram para cursos integrais\n",
    "integral = spark.sql(\"SELECT CPF, INSCRITO \\\n",
    "                      FROM dados \\\n",
    "                      WHERE TURNO = 'Integral'\")\n",
    "\n",
    "# Buscando os candidatos que aplicaram para cursos EaD\n",
    "ead = spark.sql(\"SELECT CPF, INSCRITO \\\n",
    "                 FROM dados \\\n",
    "                 WHERE TURNO = 'EaD'\")\n",
    "\n",
    "# Buscando os candidatos aprovados\n",
    "aprovados = spark.sql(\"SELECT CPF, INSCRITO \\\n",
    "                       FROM dados \\\n",
    "                       WHERE APROVADO = 'S'\")\n",
    "\n",
    "# Tornando possivel usar SQL nos dados\n",
    "matutino.createOrReplaceTempView(\"matutino\")\n",
    "vespertino.createOrReplaceTempView(\"vespertino\")\n",
    "noturno.createOrReplaceTempView(\"noturno\")\n",
    "integral.createOrReplaceTempView(\"integral\")\n",
    "ead.createOrReplaceTempView(\"ead\")\n",
    "aprovados.createOrReplaceTempView(\"aprovados\")\n",
    "\n",
    "# Buscando a quantidade de candidatos que aplicaram para cursos matutinos e foram aprovados\n",
    "qtd_matutino_aprovado = spark.sql(\"SELECT COUNT(*) \\\n",
    "                                   FROM matutino \\\n",
    "                                   INNER JOIN aprovados \\\n",
    "                                   ON matutino.CPF = aprovados.CPF \\\n",
    "                                   AND matutino.INSCRITO = aprovados.INSCRITO\").collect()[0][0]\n",
    "\n",
    "# Buscando a quantidade de candidatos que aplicaram para cursos vespertinos e foram aprovados\n",
    "qtd_vespertino_aprovado = spark.sql(\"SELECT COUNT(*) \\\n",
    "                                     FROM vespertino \\\n",
    "                                     INNER JOIN aprovados \\\n",
    "                                     ON vespertino.CPF = aprovados.CPF \\\n",
    "                                     AND vespertino.INSCRITO = aprovados.INSCRITO\").collect()[0][0]\n",
    "\n",
    "# Buscando a quantidade de candidatos que aplicaram para cursos noturnos e foram aprovados\n",
    "qtd_noturno_aprovado = spark.sql(\"SELECT COUNT(*) \\\n",
    "                                  FROM noturno \\\n",
    "                                  INNER JOIN aprovados \\\n",
    "                                  ON noturno.CPF = aprovados.CPF \\\n",
    "                                  AND noturno.INSCRITO = aprovados.INSCRITO\").collect()[0][0]\n",
    "\n",
    "# Buscando a quantidade de candidatos que aplicaram para cursos integrais e foram aprovados\n",
    "qtd_integral_aprovado = spark.sql(\"SELECT COUNT(*) \\\n",
    "                                   FROM integral \\\n",
    "                                   INNER JOIN aprovados \\\n",
    "                                   ON integral.CPF = aprovados.CPF \\\n",
    "                                   AND integral.INSCRITO = aprovados.INSCRITO\").collect()[0][0]\n",
    "\n",
    "# Buscanco a quantidade de candidatos que aplicaram para cursos EaD e foram aprovados\n",
    "qtd_ead_aprovado = spark.sql(\"SELECT COUNT(*) \\\n",
    "                              FROM ead \\\n",
    "                              INNER JOIN aprovados \\\n",
    "                              ON ead.CPF = aprovados.CPF \\\n",
    "                              AND ead.INSCRITO = aprovados.INSCRITO\").collect()[0][0]\n",
    "\n",
    "# Calculando a quantidade de candidatos de cada turno\n",
    "qtd_matutino = matutino.count()\n",
    "qtd_vespertino = vespertino.count()\n",
    "qtd_noturno = noturno.count()\n",
    "qtd_integral = integral.count()\n",
    "qtd_ead = ead.count()"
   ]
  },
  {
   "cell_type": "code",
   "execution_count": 48,
   "metadata": {},
   "outputs": [
    {
     "name": "stdout",
     "output_type": "stream",
     "text": [
      "A probabilidade de ser aprovado dado que escolheu um curso matutino é de 20.04%\n",
      "A probabilidade de ser aprovado dado que escolheu um curso vespertino é de 22.73%\n",
      "A probabilidade de ser aprovado dado que escolheu um curso noturno é de 24.3%\n",
      "A probabilidade de ser aprovado dado que escolheu um curso integral é de 17.5%\n",
      "A probabilidade de ser aprovado dado que escolheu um curso EaD é de 24.17%\n"
     ]
    }
   ],
   "source": [
    "# Calculando a probabilidade de ser aprovado e o aplicante escolher um curso matutino\n",
    "probabilidade_aprovado_matutino = qtd_matutino_aprovado / total_de_registros\n",
    "\n",
    "# Calculando a probabilidade de ser aprovado e o aplicante escolher um curso vespertino\n",
    "probabilidade_aprovado_vespertino = qtd_vespertino_aprovado / total_de_registros\n",
    "\n",
    "# Calculando a probabilidade de ser aprovado e o aplicante escolher um curso noturno\n",
    "probabilidade_aprovado_noturno = qtd_noturno_aprovado / total_de_registros\n",
    "\n",
    "# Calculando a probabilidade de ser aprovado e o aplicante escolher um curso integral\n",
    "probabilidade_aprovado_integral = qtd_integral_aprovado / total_de_registros\n",
    "\n",
    "# Calculando a probabilidade de ser aprovado e o aplicante escolher um curso EaD\n",
    "probabilidade_aprovado_ead = qtd_ead_aprovado / total_de_registros\n",
    "\n",
    "# Calculando a probabilidade de escolher um curso matutino\n",
    "probabilidade_matutino = qtd_matutino / total_de_registros\n",
    "\n",
    "# Calculando a probabilidade de escolher um curso vespertino\n",
    "probabilidade_vespertino = qtd_vespertino / total_de_registros\n",
    "\n",
    "# Calculando a probabilidade de escolher um curso noturno\n",
    "probabilidade_noturno = qtd_noturno / total_de_registros\n",
    "\n",
    "# Calculando a probabilidade de escolher um curso integral\n",
    "probabilidade_integral = qtd_integral / total_de_registros\n",
    "\n",
    "# Calculando a probabilidade de escolher um curso EaD\n",
    "probabilidade_ead = qtd_ead / total_de_registros\n",
    "\n",
    "# Calculando a probabilidade de ser aprovado dado os diferentes turnos\n",
    "probabilidade_aprovado_dado_matutino = probabilidade_aprovado_matutino / probabilidade_matutino\n",
    "probabilidade_aprovado_dado_vespertino = probabilidade_aprovado_vespertino / probabilidade_vespertino\n",
    "probabilidade_aprovado_dado_noturno = probabilidade_aprovado_noturno / probabilidade_noturno\n",
    "probabilidade_aprovado_dado_integral = probabilidade_aprovado_integral / probabilidade_integral\n",
    "probabilidade_aprovado_dado_ead = probabilidade_aprovado_ead / probabilidade_ead\n",
    "\n",
    "print(f\"A probabilidade de ser aprovado dado que escolheu um curso matutino é de {round(probabilidade_aprovado_dado_matutino * 100, 2)}%\")\n",
    "print(f\"A probabilidade de ser aprovado dado que escolheu um curso vespertino é de {round(probabilidade_aprovado_dado_vespertino * 100, 2)}%\")\n",
    "print(f\"A probabilidade de ser aprovado dado que escolheu um curso noturno é de {round(probabilidade_aprovado_dado_noturno * 100, 2)}%\")\n",
    "print(f\"A probabilidade de ser aprovado dado que escolheu um curso integral é de {round(probabilidade_aprovado_dado_integral * 100, 2)}%\")\n",
    "print(f\"A probabilidade de ser aprovado dado que escolheu um curso EaD é de {round(probabilidade_aprovado_dado_ead * 100, 2)}%\")"
   ]
  },
  {
   "cell_type": "markdown",
   "metadata": {},
   "source": [
    "# Há alguma diferença na probabilidade de ser aprovado em um curso dado o seu grau? (Área Básica de ingresso, Bacharelado, Licenciatura, Tecnológico)"
   ]
  },
  {
   "cell_type": "code",
   "execution_count": 50,
   "metadata": {},
   "outputs": [
    {
     "name": "stderr",
     "output_type": "stream",
     "text": [
      "                                                                                \r"
     ]
    },
    {
     "data": {
      "text/plain": [
       "[Row(GRAU='Área Básica de Ingresso (ABI)'),\n",
       " Row(GRAU='Bacharelado'),\n",
       " Row(GRAU='Licenciatura'),\n",
       " Row(GRAU='Tecnológico')]"
      ]
     },
     "execution_count": 50,
     "metadata": {},
     "output_type": "execute_result"
    }
   ],
   "source": [
    "dados.select(\"GRAU\").distinct().collect()"
   ]
  },
  {
   "cell_type": "code",
   "execution_count": 51,
   "metadata": {},
   "outputs": [
    {
     "name": "stderr",
     "output_type": "stream",
     "text": [
      "                                                                                \r"
     ]
    }
   ],
   "source": [
    "# Selecionando os candidatos que aplicaram para cursos de Área Básica de Ingresso\n",
    "area_basica_ingresso = spark.sql(\"SELECT CPF, INSCRITO \\\n",
    "                                   FROM dados \\\n",
    "                                   WHERE GRAU = 'Área Básica de Ingresso (ABI)'\")\n",
    "\n",
    "# Selecionando os candidatos que aplicaram para cursos de Bacharelado\n",
    "bacharelado = spark.sql(\"SELECT CPF, INSCRITO \\\n",
    "                        FROM dados \\\n",
    "                        WHERE GRAU = 'Bacharelado'\")\n",
    "\n",
    "# Selecionando os candidatos que aplicaram para cursos de Licenciatura\n",
    "licenciatura = spark.sql(\"SELECT CPF, INSCRITO \\\n",
    "                          FROM dados \\\n",
    "                          WHERE GRAU = 'Licenciatura'\")\n",
    "\n",
    "# Selecionando os candidatos que aplicaram para cursos Tecnológicos\n",
    "tecnologia = spark.sql(\"SELECT CPF, INSCRITO \\\n",
    "                        FROM dados \\\n",
    "                        WHERE GRAU = 'Tecnológico'\")\n",
    "\n",
    "# Permitindo usar SQL nos dados\n",
    "area_basica_ingresso.createOrReplaceTempView(\"area_basica_ingresso\")\n",
    "bacharelado.createOrReplaceTempView(\"bacharelado\")\n",
    "licenciatura.createOrReplaceTempView(\"licenciatura\")\n",
    "tecnologia.createOrReplaceTempView(\"tecnologia\")\n",
    "\n",
    "# Buscando a quantidade de candidatos que aplicaram para cursos de Área Básica de Ingresso e foram aprovados\n",
    "qtd_area_basica_ingresso_aprovado = spark.sql(\"SELECT COUNT(*) \\\n",
    "                                                FROM area_basica_ingresso \\\n",
    "                                                INNER JOIN aprovados \\\n",
    "                                                ON area_basica_ingresso.CPF = aprovados.CPF \\\n",
    "                                                AND area_basica_ingresso.INSCRITO = aprovados.INSCRITO\").collect()[0][0]\n",
    "\n",
    "# Buscando a quantidade de candidatos que aplicaram para cursos de Bacharelado e foram aprovados\n",
    "qtd_bacharelado_aprovado = spark.sql(\"SELECT COUNT(*) \\\n",
    "                                     FROM bacharelado \\\n",
    "                                     INNER JOIN aprovados \\\n",
    "                                     ON bacharelado.CPF = aprovados.CPF \\\n",
    "                                     AND bacharelado.INSCRITO = aprovados.INSCRITO\").collect()[0][0]\n",
    "\n",
    "# Buscando a quantidade de candidatos que aplicaram para cursos de Licenciatura e foram aprovados\n",
    "qtd_licenciatura_aprovado = spark.sql(\"SELECT COUNT(*) \\\n",
    "                                        FROM licenciatura \\\n",
    "                                        INNER JOIN aprovados \\\n",
    "                                        ON licenciatura.CPF = aprovados.CPF \\\n",
    "                                        AND licenciatura.INSCRITO = aprovados.INSCRITO\").collect()[0][0]\n",
    "\n",
    "# Buscando a quantidade de candidatos que aplicaram para cursos Tecnológicos e foram aprovados\n",
    "qtd_tecnologia_aprovado = spark.sql(\"SELECT COUNT(*) \\\n",
    "                                      FROM tecnologia \\\n",
    "                                      INNER JOIN aprovados \\\n",
    "                                      ON tecnologia.CPF = aprovados.CPF \\\n",
    "                                      AND tecnologia.INSCRITO = aprovados.INSCRITO\").collect()[0][0]\n",
    "\n",
    "# Buscando a quantidade de candidatos para cada grau\n",
    "qtd_area_basica_ingresso = area_basica_ingresso.count()\n",
    "qtd_bacharelado = bacharelado.count()\n",
    "qtd_licenciatura = licenciatura.count()\n",
    "qtd_tecnologia = tecnologia.count()\n"
   ]
  },
  {
   "cell_type": "code",
   "execution_count": 52,
   "metadata": {},
   "outputs": [
    {
     "name": "stdout",
     "output_type": "stream",
     "text": [
      "A probabilidade de ser aprovado dado que escolheu um curso de Área Básica de Ingresso é de 22.67%\n",
      "A probabilidade de ser aprovado dado que escolheu um curso de Bacharelado é de 18.01%\n",
      "A probabilidade de ser aprovado dado que escolheu um curso de Licenciatura é de 28.41%\n",
      "A probabilidade de ser aprovado dado que escolheu um curso Tecnológico é de 21.11%\n"
     ]
    }
   ],
   "source": [
    "# Calculando a probabilidade de ser aprovado e o aplicante escolher um curso de Área Básica de Ingresso\n",
    "probabilidade_aprovado_area_basica_ingresso = qtd_area_basica_ingresso_aprovado / total_de_registros\n",
    "\n",
    "# Calculando a probabilidade de ser aprovado e o aplicante escolher um curso de Bacharelado\n",
    "probabilidade_aprovado_bacharelado = qtd_bacharelado_aprovado / total_de_registros\n",
    "\n",
    "# Calculando a probabilidade de ser aprovado e o aplicante escolher um curso de Licenciatura\n",
    "probabilidade_aprovado_licenciatura = qtd_licenciatura_aprovado / total_de_registros\n",
    "\n",
    "# Calculando a probabilidade de ser aprovado e o aplicante escolher um curso Tecnológico\n",
    "probabilidade_aprovado_tecnologia = qtd_tecnologia_aprovado / total_de_registros\n",
    "\n",
    "# Calculando a probabilidade de escolher um curso de Área Básica de Ingresso\n",
    "probabilidade_area_basica_ingresso = qtd_area_basica_ingresso / total_de_registros\n",
    "\n",
    "# Calculando a probabilidade de escolher um curso de Bacharelado\n",
    "probabilidade_bacharelado = qtd_bacharelado / total_de_registros\n",
    "\n",
    "# Calculando a probabilidade de escolher um curso de Licenciatura\n",
    "probabilidade_licenciatura = qtd_licenciatura / total_de_registros\n",
    "\n",
    "# Calculando a probabilidade de escolher um curso Tecnológico\n",
    "probabilidade_tecnologia = qtd_tecnologia / total_de_registros\n",
    "\n",
    "# Calculando a probabilidade de ser aprovado dado os diferentes graus\n",
    "probabilidade_aprovado_dado_area_basica_ingresso = probabilidade_aprovado_area_basica_ingresso / probabilidade_area_basica_ingresso\n",
    "probabilidade_aprovado_dado_bacharelado = probabilidade_aprovado_bacharelado / probabilidade_bacharelado\n",
    "probabilidade_aprovado_dado_licenciatura = probabilidade_aprovado_licenciatura / probabilidade_licenciatura\n",
    "probabilidade_aprovado_dado_tecnologia = probabilidade_aprovado_tecnologia / probabilidade_tecnologia\n",
    "\n",
    "print(f\"A probabilidade de ser aprovado dado que escolheu um curso de Área Básica de Ingresso é de {round(probabilidade_aprovado_dado_area_basica_ingresso * 100, 2)}%\")\n",
    "print(f\"A probabilidade de ser aprovado dado que escolheu um curso de Bacharelado é de {round(probabilidade_aprovado_dado_bacharelado * 100, 2)}%\")\n",
    "print(f\"A probabilidade de ser aprovado dado que escolheu um curso de Licenciatura é de {round(probabilidade_aprovado_dado_licenciatura * 100, 2)}%\")\n",
    "print(f\"A probabilidade de ser aprovado dado que escolheu um curso Tecnológico é de {round(probabilidade_aprovado_dado_tecnologia * 100, 2)}%\")"
   ]
  }
 ],
 "metadata": {
  "kernelspec": {
   "display_name": "venv",
   "language": "python",
   "name": "python3"
  },
  "language_info": {
   "codemirror_mode": {
    "name": "ipython",
    "version": 3
   },
   "file_extension": ".py",
   "mimetype": "text/x-python",
   "name": "python",
   "nbconvert_exporter": "python",
   "pygments_lexer": "ipython3",
   "version": "3.10.12"
  }
 },
 "nbformat": 4,
 "nbformat_minor": 2
}
