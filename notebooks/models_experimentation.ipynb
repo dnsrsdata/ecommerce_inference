{
 "cells": [
  {
   "cell_type": "code",
   "execution_count": 1,
   "metadata": {},
   "outputs": [],
   "source": [
    "import pandas as pd"
   ]
  },
  {
   "cell_type": "code",
   "execution_count": 3,
   "metadata": {},
   "outputs": [],
   "source": [
    "# Lendo os dados\n",
    "dados_sisu = pd.read_parquet('../data/processed/dados_transformados.parquet/')"
   ]
  },
  {
   "cell_type": "code",
   "execution_count": 7,
   "metadata": {},
   "outputs": [
    {
     "data": {
      "text/plain": [
       "SIGLA_IES\n",
       "UFMG                  95822\n",
       "UFC                   84389\n",
       "UFRJ                  75768\n",
       "USP                   63192\n",
       "UFPE                  59505\n",
       "                      ...  \n",
       "ENCE                    523\n",
       "FAETERJ PARACAMBI       240\n",
       "ISEPAM                  233\n",
       "FAETERJ CAXIAS          219\n",
       "FAETERJ PETRÓPOLIS      210\n",
       "Name: count, Length: 124, dtype: int64"
      ]
     },
     "execution_count": 7,
     "metadata": {},
     "output_type": "execute_result"
    }
   ],
   "source": [
    "dados_sisu.SIGLA_IES.value_counts()"
   ]
  }
 ],
 "metadata": {
  "kernelspec": {
   "display_name": "venv",
   "language": "python",
   "name": "python3"
  },
  "language_info": {
   "codemirror_mode": {
    "name": "ipython",
    "version": 3
   },
   "file_extension": ".py",
   "mimetype": "text/x-python",
   "name": "python",
   "nbconvert_exporter": "python",
   "pygments_lexer": "ipython3",
   "version": "3.10.12"
  }
 },
 "nbformat": 4,
 "nbformat_minor": 2
}
